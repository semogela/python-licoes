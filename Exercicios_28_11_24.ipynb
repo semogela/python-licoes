{
 "cells": [
  {
   "cell_type": "markdown",
   "id": "f44e3b77-4dfb-416f-82a5-24a6dedcf8fe",
   "metadata": {},
   "source": [
    "1. Faça um programa que solicite à pessoa usuária digitar dois números float e calcular a divisão entre esses números. O código deve conter um tratamento de erro, indicando o tipo de erro que foi gerado caso a divisão não seja possível de realizar.\n",
    "\n",
    "Teste o programa com o segundo valor numérico do input igual a 0. Também teste utilizando caracteres textuais no input para checar os tipos de erro que ocorrem."
   ]
  },
  {
   "cell_type": "code",
   "execution_count": 68,
   "id": "7bd99433-1919-435a-854e-71384fc65544",
   "metadata": {},
   "outputs": [
    {
     "name": "stdin",
     "output_type": "stream",
     "text": [
      "Digite o 1º valor:  10\n",
      "Digite o 2º valor:  0\n"
     ]
    },
    {
     "name": "stdout",
     "output_type": "stream",
     "text": [
      "Apenas valores numéricos!\n"
     ]
    }
   ],
   "source": [
    "dados = []\n",
    "for i in range(2):\n",
    "    num = input(f'Digite o {i+1}º valor: ')\n",
    "    dados.append(num)\n",
    "    \n",
    "try:\n",
    "    div = dados[0]/dados[1]\n",
    "except ZeroDivisionError:\n",
    "    print(\"Não é possível dividir por zero!\")\n",
    "except TypeError:\n",
    "    print(\"Apenas valores numéricos!\")\n",
    "else:\n",
    "    print(div)"
   ]
  },
  {
   "cell_type": "markdown",
   "id": "79bc0b63-682d-42b4-bdb4-c4a09063993e",
   "metadata": {},
   "source": [
    "2. Faça um programa que solicite à pessoa usuária para digitar um texto que será uma chave a ser pesquisada no seguinte dicionário: idades = {'Júlia': 16, 'Carol': 23, 'Alberto': 19, 'Roberta': 17}, armazenando o resultado do valor em uma variável. O código deve conter um tratamento de erro KeyError, imprimindo a informação 'Nome não encontrado', caso ocorra o erro; e imprimir o valor caso não ocorra nenhum.\n",
    "\n",
    "   Teste o programa com um nome presente em uma das chaves do dicionário e com um que não esteja no dicionário para verificar a mensagem de erro."
   ]
  },
  {
   "cell_type": "code",
   "execution_count": 76,
   "id": "6184a4cd-60ba-4f20-aa3c-99902a6a11e5",
   "metadata": {},
   "outputs": [
    {
     "name": "stdin",
     "output_type": "stream",
     "text": [
      "Digite um nome a ser pesquisado:  Júlia\n"
     ]
    },
    {
     "name": "stdout",
     "output_type": "stream",
     "text": [
      "16\n"
     ]
    }
   ],
   "source": [
    "idades = {'Júlia': 16, 'Carol': 23, 'Alberto': 19, 'Roberta': 17}\n",
    "\n",
    "chave = input('Digite um nome a ser pesquisado: ')\n",
    "\n",
    "try:\n",
    "    print(idades[chave])\n",
    "except KeyError: \n",
    "    print('Nome não encontrado.')"
   ]
  },
  {
   "cell_type": "markdown",
   "id": "d0d0f9c0-a607-4782-ae10-6761b11755a1",
   "metadata": {},
   "source": [
    "3. Crie uma função que recebe uma lista como parâmetro e converta todos os valores da lista para float. A função deve conter um tratamento de erro indicando o tipo de erro gerado e retornar a lista caso não tenha ocorrido nenhum erro. Por fim, deve ter a cláusula finally para imprimir o texto: 'Fim da execução da função'."
   ]
  },
  {
   "cell_type": "code",
   "execution_count": 90,
   "id": "2a36dfd0-4745-42cf-8173-93f780acc56b",
   "metadata": {},
   "outputs": [],
   "source": [
    "def converte_float(lista):\n",
    "    for i in range(len(lista)):\n",
    "        try:\n",
    "            lista[i] = float(lista[i])\n",
    "        except ValueError:\n",
    "            print(\"A lista deve conter apenas valores numéricos! \")\n",
    "        else:\n",
    "            print(lista)\n",
    "        finally: \n",
    "            print('Fim da execução da função')"
   ]
  },
  {
   "cell_type": "code",
   "execution_count": 92,
   "id": "03a2eb34-832d-4aa5-8047-701adc14e8a7",
   "metadata": {},
   "outputs": [
    {
     "name": "stdout",
     "output_type": "stream",
     "text": [
      "[1.0, 2, 4, 7, 10]\n",
      "Fim da execução da função\n",
      "[1.0, 2.0, 4, 7, 10]\n",
      "Fim da execução da função\n",
      "[1.0, 2.0, 4.0, 7, 10]\n",
      "Fim da execução da função\n",
      "[1.0, 2.0, 4.0, 7.0, 10]\n",
      "Fim da execução da função\n",
      "[1.0, 2.0, 4.0, 7.0, 10.0]\n",
      "Fim da execução da função\n"
     ]
    }
   ],
   "source": [
    "dados = [1, 2, 4, 7, 10]\n",
    "converte_float(dados)"
   ]
  },
  {
   "cell_type": "markdown",
   "id": "eae1a864-4d40-4ab2-ab3f-49a19f9b7a9c",
   "metadata": {},
   "source": [
    "4. Crie uma função que recebe duas listas como parâmetros e agrupe os elementos um a um das listas, formando uma lista de tuplas de 3 elementos, no qual o primeiro e segundo elemento da tupla são os valores na posição i das listas e o terceiro elemento é a soma dos valores na posição i das listas.\n",
    "\n",
    "   A função deve conter um tratamento de erro indicando o tipo de erro gerado e retornar como resultado a lista de tuplas. Caso as listas enviadas como parâmetro tenham tamanhos diferentes, a função deve retornar um IndexError com a frase: 'A quantidade de elementos em cada lista é diferente.' Dados para testar a função:\n",
    "\n",
    "* Valores sem erro:\n",
    "\n",
    "  lista1 = [4,6,7,9,10]\r",
    "  \n",
    "lista2 = [-4,6,8,7,9\n",
    "\n",
    "* Listas com tamanhos diferentes:\n",
    "\n",
    "  lista1 = [4,6,7,9,10,4]\r",
    "  \n",
    "lista2 = [-4,6,8,7,9\n",
    "\n",
    "* Listas com valores incoerentes:\n",
    "\n",
    "  lista1 = [4,6,7,9,'A']\r",
    "  \n",
    "lista2 = [-4,'E',8,7,9]]]"
   ]
  },
  {
   "cell_type": "code",
   "execution_count": 120,
   "id": "e1a6a3b2-1de5-43dc-b7a3-716a480d7011",
   "metadata": {},
   "outputs": [],
   "source": [
    "def agrupar(dados1, dados2):\n",
    "    try:\n",
    "        lista_agrupada = [(dados1[i], dados2[i], dados1[i] + dados2[i]) for i in range(len(dados1))]\n",
    "    except IndexError:\n",
    "        print('A quantidade de elementos em cada lista é diferente! ')\n",
    "    except TypeError:\n",
    "        print('Apenas dados numéricos!')\n",
    "    else:\n",
    "        print(lista_agrupada)\n"
   ]
  },
  {
   "cell_type": "code",
   "execution_count": 130,
   "id": "0f6b8839-73e0-45dd-878a-5fc1a444726e",
   "metadata": {},
   "outputs": [
    {
     "name": "stdout",
     "output_type": "stream",
     "text": [
      "Apenas dados numéricos!\n"
     ]
    }
   ],
   "source": [
    "lista1 = [4,6,7,9,'A']\n",
    "lista2 = [-4,'E',8,7,9]\n",
    "agrupar(lista1, lista2)"
   ]
  },
  {
   "cell_type": "markdown",
   "id": "4746df31-f6e3-4457-b0aa-34ad3fce0fb1",
   "metadata": {},
   "source": [
    "5. Como desafio, você recebeu a tarefa de desenvolver um código que contabiliza as pontuações de estudantes de uma instituição de ensino de acordo com suas respostas num teste. Este código deve ser testado para um exemplo de 3 estudantes com uma lista de listas em que cada lista possui as respostas de 5 questões objetivas de cada estudante. Cada questão vale um ponto e as alternativas possíveis são A, B, C ou D.\n",
    "\n",
    "Caso alguma alternativa em um dos testes não esteja entre as alternativas possíveis, você deve lançar um ValueError com a mensagem \"A alternativa [alternativa] não é uma opção de alternativa válida\". O cálculo das 3 notas só será realizado mediante as entradas com as alternativas A, B, C ou D em todos os testes. Se não for lançada a exceção, será exibida uma lista com as notas em cada teste.\n",
    "\n",
    "Os dados para o teste do código são:\n",
    "\n",
    "* Gabarito da prova:\n",
    "\n",
    "gabarito = ['D', 'A', 'B', 'C', 'A']\n",
    "\n",
    "* Notas sem exceção:\n",
    "\n",
    "testes_sem_ex = [['D', 'A', 'B', 'C', 'A'], ['C', 'A', 'A', 'C', 'A'], ['D', 'B', 'A', 'C', 'A']]\n",
    "\n",
    "* Notas com exceção:\n",
    "\n",
    "testes_com_ex = [['D', 'A', 'B', 'C', 'A'], ['C', 'A', 'A', 'E', 'A'], ['D', 'B', 'A', 'C', 'A']]"
   ]
  },
  {
   "cell_type": "code",
   "execution_count": null,
   "id": "401298e9-1887-4e9d-ba4d-b9a15df358c9",
   "metadata": {},
   "outputs": [],
   "source": []
  }
 ],
 "metadata": {
  "kernelspec": {
   "display_name": "Python 3 (ipykernel)",
   "language": "python",
   "name": "python3"
  },
  "language_info": {
   "codemirror_mode": {
    "name": "ipython",
    "version": 3
   },
   "file_extension": ".py",
   "mimetype": "text/x-python",
   "name": "python",
   "nbconvert_exporter": "python",
   "pygments_lexer": "ipython3",
   "version": "3.12.4"
  }
 },
 "nbformat": 4,
 "nbformat_minor": 5
}
