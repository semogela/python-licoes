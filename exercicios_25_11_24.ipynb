{
  "nbformat": 4,
  "nbformat_minor": 0,
  "metadata": {
    "colab": {
      "provenance": [],
      "authorship_tag": "ABX9TyM09qkbHBuv/Be8aj9GUiy1",
      "include_colab_link": true
    },
    "kernelspec": {
      "name": "python3",
      "display_name": "Python 3"
    },
    "language_info": {
      "name": "python"
    }
  },
  "cells": [
    {
      "cell_type": "markdown",
      "metadata": {
        "id": "view-in-github",
        "colab_type": "text"
      },
      "source": [
        "<a href=\"https://colab.research.google.com/github/semogela/python-licoes/blob/main/exercicios_25_11_24.ipynb\" target=\"_parent\"><img src=\"https://colab.research.google.com/assets/colab-badge.svg\" alt=\"Open In Colab\"/></a>"
      ]
    },
    {
      "cell_type": "markdown",
      "source": [
        "# **Exercícios em Python**\n",
        "Dia 25/11/2024"
      ],
      "metadata": {
        "id": "WSjkmo4AcVXJ"
      }
    },
    {
      "cell_type": "markdown",
      "source": [
        "Em uma eleição para gerência em uma empresa com 20 pessoas colaboradoras, existem quatro candidatos(as). Escreva um programa que calcule o(a) vencedor(a) da eleição. A votação ocorreu da seguinte maneira:\n",
        "\n",
        "Cada colaborador(a) votou em uma das quatro pessoas candidatas (que representamos pelos números 1, 2, 3 e 4).\n",
        "Também foram contabilizados os votos nulos (representados pelo número 5) e os votos em branco (representados pelo número 6).\n",
        "Ao final da votação, o programa deve exibir o número total de votos para cada candidato(a), os nulos e os votos em branco. Além disso, deve calcular e exibir a porcentagem de votos nulos em relação ao total de votos e a porcentagem de votos em branco em relação ao total de votos.\n",
        "\n"
      ],
      "metadata": {
        "id": "NOcdopMShlZ5"
      }
    },
    {
      "cell_type": "code",
      "source": [
        "cand_um = cand_dois = cand_tres = cand_quatro = nulo = branco = 0\n",
        "\n",
        "for i in range(20):\n",
        "  voto = int(input(f'Voto nº {i+1}: digite o número do seu candidato: '))\n",
        "  if voto == 1:\n",
        "    cand_um += 1\n",
        "  elif voto == 2:\n",
        "    cand_dois += 1\n",
        "  elif voto == 3:\n",
        "    cand_tres += 1\n",
        "  elif voto == 4:\n",
        "    cand_quatro += 1\n",
        "  elif voto == 5:\n",
        "    nulo += 1\n",
        "  elif voto == 6:\n",
        "    branco += 1\n",
        "  else:\n",
        "    print('Voto inválido')\n",
        "\n",
        "\n",
        "votos_um = (cand_um / 20) * 100\n",
        "votos_dois = (cand_dois / 20) * 100\n",
        "votos_tres = (cand_tres / 20) * 100\n",
        "votos_quatro = (cand_quatro / 20) * 100\n",
        "nulos = (nulo / 20) * 100\n",
        "brancos = (branco / 20) * 100\n",
        "\n",
        "print(f'Candidato 1: {cand_um} votos, {votos_um}%')\n",
        "print(f'Candidato 2: {cand_dois} votos, {votos_dois}%')\n",
        "print(f'Candidato 3: {cand_tres} votos, {votos_tres}%')\n",
        "print(f'Candidato 4: {cand_quatro} votos, {votos_quatro}%')\n",
        "print(f'Nulos: {nulo} votos, {nulos}%')\n",
        "print(f'Brancos: {branco} votos, {brancos}%')\n",
        "\n",
        "\n"
      ],
      "metadata": {
        "colab": {
          "base_uri": "https://localhost:8080/"
        },
        "id": "JLLONxR_hm0i",
        "outputId": "d8c0d122-a364-4bbc-d1b0-b94d050a4f8a"
      },
      "execution_count": 20,
      "outputs": [
        {
          "output_type": "stream",
          "name": "stdout",
          "text": [
            "Voto nº 1: digite o número do seu candidato: 1\n",
            "Voto nº 2: digite o número do seu candidato: 6\n",
            "Voto nº 3: digite o número do seu candidato: 5\n",
            "Voto nº 4: digite o número do seu candidato: 1\n",
            "Voto nº 5: digite o número do seu candidato: 4\n",
            "Voto nº 6: digite o número do seu candidato: 3\n",
            "Voto nº 7: digite o número do seu candidato: 2\n",
            "Voto nº 8: digite o número do seu candidato: 5\n",
            "Voto nº 9: digite o número do seu candidato: 1\n",
            "Voto nº 10: digite o número do seu candidato: 2\n",
            "Voto nº 11: digite o número do seu candidato: 4\n",
            "Voto nº 12: digite o número do seu candidato: 3\n",
            "Voto nº 13: digite o número do seu candidato: 1\n",
            "Voto nº 14: digite o número do seu candidato: 6\n",
            "Voto nº 15: digite o número do seu candidato: 5\n",
            "Voto nº 16: digite o número do seu candidato: 4\n",
            "Voto nº 17: digite o número do seu candidato: 1\n",
            "Voto nº 18: digite o número do seu candidato: 2\n",
            "Voto nº 19: digite o número do seu candidato: 3\n",
            "Voto nº 20: digite o número do seu candidato: 1\n",
            "Candidato 1: 6 votos, 30.0%\n",
            "Candidato 2: 3 votos, 15.0%\n",
            "Candidato 3: 3 votos, 15.0%\n",
            "Candidato 4: 3 votos, 15.0%\n",
            "Nulos: 3 votos, 15.0%\n",
            "Brancos: 2 votos, 10.0%\n"
          ]
        }
      ]
    }
  ]
}