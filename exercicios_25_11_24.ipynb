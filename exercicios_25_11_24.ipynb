{
  "nbformat": 4,
  "nbformat_minor": 0,
  "metadata": {
    "colab": {
      "provenance": [],
      "authorship_tag": "ABX9TyNnTu68Oc0JGgYwb4WGHBzo",
      "include_colab_link": true
    },
    "kernelspec": {
      "name": "python3",
      "display_name": "Python 3"
    },
    "language_info": {
      "name": "python"
    }
  },
  "cells": [
    {
      "cell_type": "markdown",
      "metadata": {
        "id": "view-in-github",
        "colab_type": "text"
      },
      "source": [
        "<a href=\"https://colab.research.google.com/github/semogela/python-licoes/blob/main/exercicios_25_11_24.ipynb\" target=\"_parent\"><img src=\"https://colab.research.google.com/assets/colab-badge.svg\" alt=\"Open In Colab\"/></a>"
      ]
    },
    {
      "cell_type": "markdown",
      "source": [
        "# **Exercícios em Python**\n",
        "Dia 25/11/2024"
      ],
      "metadata": {
        "id": "WSjkmo4AcVXJ"
      }
    },
    {
      "cell_type": "markdown",
      "source": [
        "Em uma eleição para gerência em uma empresa com 20 pessoas colaboradoras, existem quatro candidatos(as). Escreva um programa que calcule o(a) vencedor(a) da eleição. A votação ocorreu da seguinte maneira:\n",
        "\n",
        "Cada colaborador(a) votou em uma das quatro pessoas candidatas (que representamos pelos números 1, 2, 3 e 4).\n",
        "Também foram contabilizados os votos nulos (representados pelo número 5) e os votos em branco (representados pelo número 6).\n",
        "Ao final da votação, o programa deve exibir o número total de votos para cada candidato(a), os nulos e os votos em branco. Além disso, deve calcular e exibir a porcentagem de votos nulos em relação ao total de votos e a porcentagem de votos em branco em relação ao total de votos.\n",
        "\n"
      ],
      "metadata": {
        "id": "NOcdopMShlZ5"
      }
    },
    {
      "cell_type": "code",
      "source": [
        "cand_um = cand_dois = cand_tres = cand_quatro = nulo = branco = 0\n",
        "\n",
        "for i in range(20):\n",
        "  voto = int(input(f'Voto nº {i+1}: digite o número do seu candidato: '))\n",
        "  if voto == 1:\n",
        "    cand_um += 1\n",
        "  elif voto == 2:\n",
        "    cand_dois += 1\n",
        "  elif voto == 3:\n",
        "    cand_tres += 1\n",
        "  elif voto == 4:\n",
        "    cand_quatro += 1\n",
        "  elif voto == 5:\n",
        "    nulo += 1\n",
        "  elif voto == 6:\n",
        "    branco += 1\n",
        "  else:\n",
        "    print('Voto inválido')\n",
        "\n",
        "\n",
        "votos_um = (cand_um / 20) * 100\n",
        "votos_dois = (cand_dois / 20) * 100\n",
        "votos_tres = (cand_tres / 20) * 100\n",
        "votos_quatro = (cand_quatro / 20) * 100\n",
        "nulos = (nulo / 20) * 100\n",
        "brancos = (branco / 20) * 100\n",
        "\n",
        "print(f'Candidato 1: {cand_um} votos, {votos_um}%')\n",
        "print(f'Candidato 2: {cand_dois} votos, {votos_dois}%')\n",
        "print(f'Candidato 3: {cand_tres} votos, {votos_tres}%')\n",
        "print(f'Candidato 4: {cand_quatro} votos, {votos_quatro}%')\n",
        "print(f'Nulos: {nulo} votos, {nulos}%')\n",
        "print(f'Brancos: {branco} votos, {brancos}%')\n",
        "\n",
        "\n"
      ],
      "metadata": {
        "colab": {
          "base_uri": "https://localhost:8080/"
        },
        "id": "JLLONxR_hm0i",
        "outputId": "d8c0d122-a364-4bbc-d1b0-b94d050a4f8a"
      },
      "execution_count": null,
      "outputs": [
        {
          "output_type": "stream",
          "name": "stdout",
          "text": [
            "Voto nº 1: digite o número do seu candidato: 1\n",
            "Voto nº 2: digite o número do seu candidato: 6\n",
            "Voto nº 3: digite o número do seu candidato: 5\n",
            "Voto nº 4: digite o número do seu candidato: 1\n",
            "Voto nº 5: digite o número do seu candidato: 4\n",
            "Voto nº 6: digite o número do seu candidato: 3\n",
            "Voto nº 7: digite o número do seu candidato: 2\n",
            "Voto nº 8: digite o número do seu candidato: 5\n",
            "Voto nº 9: digite o número do seu candidato: 1\n",
            "Voto nº 10: digite o número do seu candidato: 2\n",
            "Voto nº 11: digite o número do seu candidato: 4\n",
            "Voto nº 12: digite o número do seu candidato: 3\n",
            "Voto nº 13: digite o número do seu candidato: 1\n",
            "Voto nº 14: digite o número do seu candidato: 6\n",
            "Voto nº 15: digite o número do seu candidato: 5\n",
            "Voto nº 16: digite o número do seu candidato: 4\n",
            "Voto nº 17: digite o número do seu candidato: 1\n",
            "Voto nº 18: digite o número do seu candidato: 2\n",
            "Voto nº 19: digite o número do seu candidato: 3\n",
            "Voto nº 20: digite o número do seu candidato: 1\n",
            "Candidato 1: 6 votos, 30.0%\n",
            "Candidato 2: 3 votos, 15.0%\n",
            "Candidato 3: 3 votos, 15.0%\n",
            "Candidato 4: 3 votos, 15.0%\n",
            "Nulos: 3 votos, 15.0%\n",
            "Brancos: 2 votos, 10.0%\n"
          ]
        }
      ]
    },
    {
      "cell_type": "markdown",
      "source": [
        "O setor de RH da sua empresa te pediu uma ajuda para analisar as idades de colaboradores(as) de 4 setores da empresa. Para isso, foram fornecidos os seguintes dados:\n",
        "{'Setor A': [22, 26, 30, 30, 35, 38, 40, 56, 57, 65],\n",
        " 'Setor B': [22, 24, 26, 33, 41, 49, 50, 54, 60, 64],\n",
        " 'Setor C': [23, 26, 26, 29, 34, 35, 36, 41, 52, 56],\n",
        " 'Setor D': [19, 20, 25, 27, 34, 39, 42, 44, 50, 65]}\n",
        "\n",
        " Sabendo que cada setor tem 10 colaboradores(as), construa um código que calcule a média de idade de cada setor, a idade média geral entre todos os setores e quantas pessoas estão acima da idade média geral."
      ],
      "metadata": {
        "id": "Nk5DEbzZlT1c"
      }
    },
    {
      "cell_type": "code",
      "source": [
        "setores = {'Setor A':  [22, 26, 30, 30, 35, 38, 40, 56, 57, 65], 'Setor B': [22, 24, 26, 33, 41, 49, 50, 54, 60, 64], 'Setor C': [23, 26, 26, 29, 34, 35, 36, 41, 52, 56], 'Setor D': [19, 20, 25, 27, 34, 39, 42, 44, 50, 65]}\n",
        "sum_um = sum_dois = sum_tres = sum_quatro = acima_da_media = 0\n",
        "\n",
        "for i in range(10):\n",
        "  sum_um += setores['Setor A'][i]\n",
        "  sum_dois += setores['Setor B'][i]\n",
        "  sum_tres += setores['Setor C'][i]\n",
        "  sum_quatro += setores['Setor D'][i]\n",
        "\n",
        "  media_a = sum_um / 10\n",
        "  media_b = sum_dois / 10\n",
        "  media_c = sum_tres / 10\n",
        "  media_d = sum_quatro / 10\n",
        "  media_geral = (sum_um + sum_dois + sum_tres + sum_quatro) / 40\n",
        "print(f'A média de idades do setor A é: {media_a}\\n'\n",
        "        f'A média de idades do setor B é: {media_b}\\n'\n",
        "        f'A média de idades do setor C é: {media_c}\\n'\n",
        "        f'A média de idades do setor D é: {media_d}\\n'\n",
        "        f'A média geral entre todos os setores é: {media_geral:.2f}')\n",
        "\n",
        "for i in range(10):\n",
        "  if setores['Setor A'][i] > media_geral:\n",
        "    acima_da_media += 1\n",
        "  if setores['Setor B'][i] > media_geral:\n",
        "    acima_da_media += 1\n",
        "  if setores['Setor C'][i] > media_geral:\n",
        "    acima_da_media += 1\n",
        "  if setores['Setor D'][i] > media_geral:\n",
        "    acima_da_media += 1\n",
        "\n",
        "print(f'Há {acima_da_media} funcionários acima da média de idade.')\n",
        "\n"
      ],
      "metadata": {
        "colab": {
          "base_uri": "https://localhost:8080/"
        },
        "id": "a_kf0tS9lxZd",
        "outputId": "3908c709-1c9d-41a6-e168-2db54fb416dd"
      },
      "execution_count": 38,
      "outputs": [
        {
          "output_type": "stream",
          "name": "stdout",
          "text": [
            "A média de idades do setor A é: 39.9\n",
            "A média de idades do setor B é: 42.3\n",
            "A média de idades do setor C é: 35.8\n",
            "A média de idades do setor D é: 36.5\n",
            "A média geral entre todos os setores é: 38.62\n",
            "Há 18 funcionários acima da média de idade.\n"
          ]
        }
      ]
    }
  ]
}