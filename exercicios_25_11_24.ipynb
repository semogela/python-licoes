{
  "nbformat": 4,
  "nbformat_minor": 0,
  "metadata": {
    "colab": {
      "provenance": [],
      "authorship_tag": "ABX9TyOSuKKUORlNayn03KNGOT2A",
      "include_colab_link": true
    },
    "kernelspec": {
      "name": "python3",
      "display_name": "Python 3"
    },
    "language_info": {
      "name": "python"
    }
  },
  "cells": [
    {
      "cell_type": "markdown",
      "metadata": {
        "id": "view-in-github",
        "colab_type": "text"
      },
      "source": [
        "<a href=\"https://colab.research.google.com/github/semogela/python-licoes/blob/main/exercicios_25_11_24.ipynb\" target=\"_parent\"><img src=\"https://colab.research.google.com/assets/colab-badge.svg\" alt=\"Open In Colab\"/></a>"
      ]
    },
    {
      "cell_type": "markdown",
      "source": [
        "# **Exercícios em Python**\n",
        "Dia 25/11/2024"
      ],
      "metadata": {
        "id": "WSjkmo4AcVXJ"
      }
    },
    {
      "cell_type": "markdown",
      "source": [
        "Em uma eleição para gerência em uma empresa com 20 pessoas colaboradoras, existem quatro candidatos(as). Escreva um programa que calcule o(a) vencedor(a) da eleição. A votação ocorreu da seguinte maneira:\n",
        "\n",
        "Cada colaborador(a) votou em uma das quatro pessoas candidatas (que representamos pelos números 1, 2, 3 e 4).\n",
        "Também foram contabilizados os votos nulos (representados pelo número 5) e os votos em branco (representados pelo número 6).\n",
        "Ao final da votação, o programa deve exibir o número total de votos para cada candidato(a), os nulos e os votos em branco. Além disso, deve calcular e exibir a porcentagem de votos nulos em relação ao total de votos e a porcentagem de votos em branco em relação ao total de votos.\n",
        "\n"
      ],
      "metadata": {
        "id": "NOcdopMShlZ5"
      }
    },
    {
      "cell_type": "code",
      "source": [
        "cand_um = cand_dois = cand_tres = cand_quatro = nulo = branco = 0\n",
        "\n",
        "for i in range(20):\n",
        "  voto = int(input(f'Voto nº {i+1}: digite o número do seu candidato: '))\n",
        "  if voto == 1:\n",
        "    cand_um += 1\n",
        "  elif voto == 2:\n",
        "    cand_dois += 1\n",
        "  elif voto == 3:\n",
        "    cand_tres += 1\n",
        "  elif voto == 4:\n",
        "    cand_quatro += 1\n",
        "  elif voto == 5:\n",
        "    nulo += 1\n",
        "  elif voto == 6:\n",
        "    branco += 1\n",
        "  else:\n",
        "    print('Voto inválido')\n",
        "\n",
        "\n",
        "votos_um = (cand_um / 20) * 100\n",
        "votos_dois = (cand_dois / 20) * 100\n",
        "votos_tres = (cand_tres / 20) * 100\n",
        "votos_quatro = (cand_quatro / 20) * 100\n",
        "nulos = (nulo / 20) * 100\n",
        "brancos = (branco / 20) * 100\n",
        "\n",
        "print(f'Candidato 1: {cand_um} votos, {votos_um}%')\n",
        "print(f'Candidato 2: {cand_dois} votos, {votos_dois}%')\n",
        "print(f'Candidato 3: {cand_tres} votos, {votos_tres}%')\n",
        "print(f'Candidato 4: {cand_quatro} votos, {votos_quatro}%')\n",
        "print(f'Nulos: {nulo} votos, {nulos}%')\n",
        "print(f'Brancos: {branco} votos, {brancos}%')\n",
        "\n",
        "\n"
      ],
      "metadata": {
        "colab": {
          "base_uri": "https://localhost:8080/"
        },
        "id": "JLLONxR_hm0i",
        "outputId": "d8c0d122-a364-4bbc-d1b0-b94d050a4f8a"
      },
      "execution_count": null,
      "outputs": [
        {
          "output_type": "stream",
          "name": "stdout",
          "text": [
            "Voto nº 1: digite o número do seu candidato: 1\n",
            "Voto nº 2: digite o número do seu candidato: 6\n",
            "Voto nº 3: digite o número do seu candidato: 5\n",
            "Voto nº 4: digite o número do seu candidato: 1\n",
            "Voto nº 5: digite o número do seu candidato: 4\n",
            "Voto nº 6: digite o número do seu candidato: 3\n",
            "Voto nº 7: digite o número do seu candidato: 2\n",
            "Voto nº 8: digite o número do seu candidato: 5\n",
            "Voto nº 9: digite o número do seu candidato: 1\n",
            "Voto nº 10: digite o número do seu candidato: 2\n",
            "Voto nº 11: digite o número do seu candidato: 4\n",
            "Voto nº 12: digite o número do seu candidato: 3\n",
            "Voto nº 13: digite o número do seu candidato: 1\n",
            "Voto nº 14: digite o número do seu candidato: 6\n",
            "Voto nº 15: digite o número do seu candidato: 5\n",
            "Voto nº 16: digite o número do seu candidato: 4\n",
            "Voto nº 17: digite o número do seu candidato: 1\n",
            "Voto nº 18: digite o número do seu candidato: 2\n",
            "Voto nº 19: digite o número do seu candidato: 3\n",
            "Voto nº 20: digite o número do seu candidato: 1\n",
            "Candidato 1: 6 votos, 30.0%\n",
            "Candidato 2: 3 votos, 15.0%\n",
            "Candidato 3: 3 votos, 15.0%\n",
            "Candidato 4: 3 votos, 15.0%\n",
            "Nulos: 3 votos, 15.0%\n",
            "Brancos: 2 votos, 10.0%\n"
          ]
        }
      ]
    },
    {
      "cell_type": "markdown",
      "source": [],
      "metadata": {
        "id": "FQ9iORi_9EW-"
      }
    },
    {
      "cell_type": "markdown",
      "source": [
        "##***\n",
        "\n",
        "\n"
      ],
      "metadata": {
        "id": "kOJv554Hr40y"
      }
    },
    {
      "cell_type": "markdown",
      "source": [
        "O setor de RH da sua empresa te pediu uma ajuda para analisar as idades de colaboradores(as) de 4 setores da empresa. Para isso, foram fornecidos os seguintes dados:\n",
        "{'Setor A': [22, 26, 30, 30, 35, 38, 40, 56, 57, 65],\n",
        " 'Setor B': [22, 24, 26, 33, 41, 49, 50, 54, 60, 64],\n",
        " 'Setor C': [23, 26, 26, 29, 34, 35, 36, 41, 52, 56],\n",
        " 'Setor D': [19, 20, 25, 27, 34, 39, 42, 44, 50, 65]}\n",
        "\n",
        " Sabendo que cada setor tem 10 colaboradores(as), construa um código que calcule a média de idade de cada setor, a idade média geral entre todos os setores e quantas pessoas estão acima da idade média geral."
      ],
      "metadata": {
        "id": "Nk5DEbzZlT1c"
      }
    },
    {
      "cell_type": "code",
      "source": [
        "setores = {'Setor A':  [22, 26, 30, 30, 35, 38, 40, 56, 57, 65],\n",
        "           'Setor B': [22, 24, 26, 33, 41, 49, 50, 54, 60, 64],\n",
        "           'Setor C': [23, 26, 26, 29, 34, 35, 36, 41, 52, 56],\n",
        "           'Setor D': [19, 20, 25, 27, 34, 39, 42, 44, 50, 65]}\n",
        "sum_um = sum_dois = sum_tres = sum_quatro = acima_da_media = 0\n",
        "\n",
        "for i in range(10):\n",
        "  sum_um += setores['Setor A'][i]\n",
        "  sum_dois += setores['Setor B'][i]\n",
        "  sum_tres += setores['Setor C'][i]\n",
        "  sum_quatro += setores['Setor D'][i]\n",
        "\n",
        "  media_a = sum_um / 10\n",
        "  media_b = sum_dois / 10\n",
        "  media_c = sum_tres / 10\n",
        "  media_d = sum_quatro / 10\n",
        "  media_geral = (sum_um + sum_dois + sum_tres + sum_quatro) / 40\n",
        "print(f'A média de idades do setor A é: {media_a}\\n'\n",
        "        f'A média de idades do setor B é: {media_b}\\n'\n",
        "        f'A média de idades do setor C é: {media_c}\\n'\n",
        "        f'A média de idades do setor D é: {media_d}\\n'\n",
        "        f'A média geral entre todos os setores é: {media_geral:.2f}')\n",
        "\n",
        "for i in range(10):\n",
        "  if setores['Setor A'][i] > media_geral:\n",
        "    acima_da_media += 1\n",
        "  if setores['Setor B'][i] > media_geral:\n",
        "    acima_da_media += 1\n",
        "  if setores['Setor C'][i] > media_geral:\n",
        "    acima_da_media += 1\n",
        "  if setores['Setor D'][i] > media_geral:\n",
        "    acima_da_media += 1\n",
        "#Neste caso não usei a função 'elif' para evitar um problema: mais de uma\n",
        "#condição pode ser atendida ao mesmo tempo neste caso, e caso eu usasse elif,\n",
        "#e o if fosse aceito como condição, todo o resto seria ignorado pelo programa.\n",
        "\n",
        "print(f'Há {acima_da_media} funcionários acima da média de idade.')\n",
        "\n"
      ],
      "metadata": {
        "colab": {
          "base_uri": "https://localhost:8080/"
        },
        "id": "a_kf0tS9lxZd",
        "outputId": "dc3e3910-40a4-4543-e1a3-e0cb6fc9bfd9"
      },
      "execution_count": 41,
      "outputs": [
        {
          "output_type": "stream",
          "name": "stdout",
          "text": [
            "A média de idades do setor A é: 39.9\n",
            "A média de idades do setor B é: 42.3\n",
            "A média de idades do setor C é: 35.8\n",
            "A média de idades do setor D é: 36.5\n",
            "A média geral entre todos os setores é: 38.62\n",
            "Há 18 funcionários acima da média de idade.\n"
          ]
        }
      ]
    },
    {
      "cell_type": "markdown",
      "source": [
        "## ***"
      ],
      "metadata": {
        "id": "6WiCwIFZ9Ghc"
      }
    },
    {
      "cell_type": "markdown",
      "source": [
        "Escreva um código para instalar a versão 3.7.1 da biblioteca matplotlib."
      ],
      "metadata": {
        "id": "G7QOe2489JfV"
      }
    },
    {
      "cell_type": "code",
      "source": [
        "!pip install matplotlib==3.7.1"
      ],
      "metadata": {
        "colab": {
          "base_uri": "https://localhost:8080/",
          "height": 515
        },
        "id": "zcdJg9j49Nj8",
        "outputId": "10e52b62-5ed1-415d-da69-ba2a791fd683"
      },
      "execution_count": 43,
      "outputs": [
        {
          "output_type": "stream",
          "name": "stdout",
          "text": [
            "Collecting matplotlib==3.7.1\n",
            "  Downloading matplotlib-3.7.1-cp310-cp310-manylinux_2_17_x86_64.manylinux2014_x86_64.whl.metadata (5.6 kB)\n",
            "Requirement already satisfied: contourpy>=1.0.1 in /usr/local/lib/python3.10/dist-packages (from matplotlib==3.7.1) (1.3.1)\n",
            "Requirement already satisfied: cycler>=0.10 in /usr/local/lib/python3.10/dist-packages (from matplotlib==3.7.1) (0.12.1)\n",
            "Requirement already satisfied: fonttools>=4.22.0 in /usr/local/lib/python3.10/dist-packages (from matplotlib==3.7.1) (4.55.0)\n",
            "Requirement already satisfied: kiwisolver>=1.0.1 in /usr/local/lib/python3.10/dist-packages (from matplotlib==3.7.1) (1.4.7)\n",
            "Requirement already satisfied: numpy>=1.20 in /usr/local/lib/python3.10/dist-packages (from matplotlib==3.7.1) (1.26.4)\n",
            "Requirement already satisfied: packaging>=20.0 in /usr/local/lib/python3.10/dist-packages (from matplotlib==3.7.1) (24.2)\n",
            "Requirement already satisfied: pillow>=6.2.0 in /usr/local/lib/python3.10/dist-packages (from matplotlib==3.7.1) (11.0.0)\n",
            "Requirement already satisfied: pyparsing>=2.3.1 in /usr/local/lib/python3.10/dist-packages (from matplotlib==3.7.1) (3.2.0)\n",
            "Requirement already satisfied: python-dateutil>=2.7 in /usr/local/lib/python3.10/dist-packages (from matplotlib==3.7.1) (2.8.2)\n",
            "Requirement already satisfied: six>=1.5 in /usr/local/lib/python3.10/dist-packages (from python-dateutil>=2.7->matplotlib==3.7.1) (1.16.0)\n",
            "Downloading matplotlib-3.7.1-cp310-cp310-manylinux_2_17_x86_64.manylinux2014_x86_64.whl (11.6 MB)\n",
            "\u001b[2K   \u001b[90m━━━━━━━━━━━━━━━━━━━━━━━━━━━━━━━━━━━━━━━━\u001b[0m \u001b[32m11.6/11.6 MB\u001b[0m \u001b[31m25.0 MB/s\u001b[0m eta \u001b[36m0:00:00\u001b[0m\n",
            "\u001b[?25hInstalling collected packages: matplotlib\n",
            "  Attempting uninstall: matplotlib\n",
            "    Found existing installation: matplotlib 3.8.0\n",
            "    Uninstalling matplotlib-3.8.0:\n",
            "      Successfully uninstalled matplotlib-3.8.0\n",
            "\u001b[31mERROR: pip's dependency resolver does not currently take into account all the packages that are installed. This behaviour is the source of the following dependency conflicts.\n",
            "plotnine 0.14.1 requires matplotlib>=3.8.0, but you have matplotlib 3.7.1 which is incompatible.\u001b[0m\u001b[31m\n",
            "\u001b[0mSuccessfully installed matplotlib-3.7.1\n"
          ]
        },
        {
          "output_type": "display_data",
          "data": {
            "application/vnd.colab-display-data+json": {
              "pip_warning": {
                "packages": [
                  "matplotlib",
                  "mpl_toolkits"
                ]
              },
              "id": "fce636af10eb4360b19f2fbb5fb1fe63"
            }
          },
          "metadata": {}
        }
      ]
    },
    {
      "cell_type": "code",
      "source": [
        "import matplotlib\n",
        "matplotlib.__version__\n",
        "!pip install matplotlib==3.8.0\n",
        "matplotlib.__version__"
      ],
      "metadata": {
        "colab": {
          "base_uri": "https://localhost:8080/",
          "height": 226
        },
        "id": "MjaTvTXL9ga0",
        "outputId": "c3e0ff35-1d63-461c-acc8-576ea3413257"
      },
      "execution_count": 1,
      "outputs": [
        {
          "output_type": "stream",
          "name": "stdout",
          "text": [
            "Requirement already satisfied: matplotlib==3.8.0 in /usr/local/lib/python3.10/dist-packages (3.8.0)\n",
            "Requirement already satisfied: contourpy>=1.0.1 in /usr/local/lib/python3.10/dist-packages (from matplotlib==3.8.0) (1.3.1)\n",
            "Requirement already satisfied: cycler>=0.10 in /usr/local/lib/python3.10/dist-packages (from matplotlib==3.8.0) (0.12.1)\n",
            "Requirement already satisfied: fonttools>=4.22.0 in /usr/local/lib/python3.10/dist-packages (from matplotlib==3.8.0) (4.55.0)\n",
            "Requirement already satisfied: kiwisolver>=1.0.1 in /usr/local/lib/python3.10/dist-packages (from matplotlib==3.8.0) (1.4.7)\n",
            "Requirement already satisfied: numpy<2,>=1.21 in /usr/local/lib/python3.10/dist-packages (from matplotlib==3.8.0) (1.26.4)\n",
            "Requirement already satisfied: packaging>=20.0 in /usr/local/lib/python3.10/dist-packages (from matplotlib==3.8.0) (24.2)\n",
            "Requirement already satisfied: pillow>=6.2.0 in /usr/local/lib/python3.10/dist-packages (from matplotlib==3.8.0) (11.0.0)\n",
            "Requirement already satisfied: pyparsing>=2.3.1 in /usr/local/lib/python3.10/dist-packages (from matplotlib==3.8.0) (3.2.0)\n",
            "Requirement already satisfied: python-dateutil>=2.7 in /usr/local/lib/python3.10/dist-packages (from matplotlib==3.8.0) (2.8.2)\n",
            "Requirement already satisfied: six>=1.5 in /usr/local/lib/python3.10/dist-packages (from python-dateutil>=2.7->matplotlib==3.8.0) (1.16.0)\n"
          ]
        },
        {
          "output_type": "execute_result",
          "data": {
            "text/plain": [
              "'3.8.0'"
            ],
            "application/vnd.google.colaboratory.intrinsic+json": {
              "type": "string"
            }
          },
          "metadata": {},
          "execution_count": 1
        }
      ]
    },
    {
      "cell_type": "markdown",
      "source": [
        "##***"
      ],
      "metadata": {
        "id": "utlmMy61_jGT"
      }
    },
    {
      "cell_type": "markdown",
      "source": [
        " Um programa deve ser escrito para sortear uma pessoa seguidora de uma rede social para ganhar um prêmio. A lista de participantes é numerada e devemos escolher aleatoriamente um número de acordo com a quantidade de participantes. Peça à pessoa usuária para fornecer o número de participantes do sorteio e devolva para ela o número sorteado."
      ],
      "metadata": {
        "id": "wqcL7eOO9-Wk"
      }
    },
    {
      "cell_type": "code",
      "source": [
        "num_participantes = int(input('Digite o número de participantes: '))\n",
        "import random\n",
        "sorteio = random.randint(1, num_participantes)\n",
        "print(f'O número sorteado foi: {sorteio}')"
      ],
      "metadata": {
        "colab": {
          "base_uri": "https://localhost:8080/"
        },
        "id": "lB27WraQ9_yM",
        "outputId": "7b24e56a-faa5-4bfc-e33a-a8e24320d76a"
      },
      "execution_count": 11,
      "outputs": [
        {
          "output_type": "stream",
          "name": "stdout",
          "text": [
            "Digite o número de participantes: 91\n",
            "O número sorteado foi: 91\n"
          ]
        }
      ]
    },
    {
      "cell_type": "markdown",
      "source": [
        "## ***"
      ],
      "metadata": {
        "id": "RBxG4-1f_eVb"
      }
    },
    {
      "cell_type": "markdown",
      "source": [
        "Você recebeu uma demanda para gerar números de token para acessar o aplicativo de uma empresa. O token precisa ser par e variar de 1000 até 9998. Escreva um código que solicita à pessoa usuária o seu nome e exibe uma mensagem junto a esse token gerado aleatoriamente.\n",
        "\n",
        "\"Olá, [nome], o seu token de acesso é [token]! Seja bem-vindo(a)!\""
      ],
      "metadata": {
        "id": "jk9DxNma-nWU"
      }
    },
    {
      "cell_type": "code",
      "source": [
        "import random\n",
        "token = 9998\n",
        "nome = input('Digite seu nome: ')\n",
        "sort_token = random.randint(1000, 9998)\n",
        "if sort_token % 2 != 0:\n",
        "  sort_token += 1\n",
        "print(f'Olá, {nome}, o seu token de acesso é {sort_token}! Seja bem-vindo(a)!')"
      ],
      "metadata": {
        "colab": {
          "base_uri": "https://localhost:8080/"
        },
        "id": "Kw0Emqj2-rX2",
        "outputId": "166dc0d0-47f9-4284-868c-92f3ba2e8e6c"
      },
      "execution_count": 15,
      "outputs": [
        {
          "output_type": "stream",
          "name": "stdout",
          "text": [
            "Digite seu nome: Alexandre\n",
            "Olá, Alexandre, o seu token de acesso é 9120! Seja bem-vindo(a)!\n"
          ]
        }
      ]
    },
    {
      "cell_type": "markdown",
      "source": [
        "## ***"
      ],
      "metadata": {
        "id": "vSXoKMQk_f7j"
      }
    },
    {
      "cell_type": "markdown",
      "source": [
        "Para diversificar e atrair novos(as) clientes, uma lanchonete criou um item misterioso em seu cardápio chamado \"salada de frutas surpresa\". Neste item, são escolhidas aleatoriamente 3 frutas de uma lista de 12 para compor a salada de frutas da pessoa cliente. Crie o código que faça essa seleção aleatória de acordo com a lista abaixo:\n",
        "\n",
        "frutas = [\"maçã\", \"banana\", \"uva\", \"pêra\",\n",
        "          \"manga\", \"coco\", \"melancia\", \"mamão\",\n",
        "          \"laranja\", \"abacaxi\", \"kiwi\", \"ameixa\"]"
      ],
      "metadata": {
        "id": "ur0mfgD2_Zi8"
      }
    },
    {
      "cell_type": "code",
      "source": [
        "from random import choices\n",
        "\n",
        "frutas = [\"maçã\", \"banana\", \"uva\", \"pêra\",\n",
        "          \"manga\", \"coco\", \"melancia\", \"mamão\",\n",
        "          \"laranja\", \"abacaxi\", \"kiwi\", \"ameixa\"]\n",
        "\n",
        "salada_surpresa = choices(frutas, k=3)\n",
        "print(f'A salada de frutas surpresa é: {salada_surpresa}')\n"
      ],
      "metadata": {
        "colab": {
          "base_uri": "https://localhost:8080/"
        },
        "id": "ay43fcvF_aLc",
        "outputId": "39b63124-c42b-4035-a65b-e6ea8aa8d739"
      },
      "execution_count": 23,
      "outputs": [
        {
          "output_type": "stream",
          "name": "stdout",
          "text": [
            "A salada de frutas surpresa é: ['laranja', 'kiwi', 'maçã']\n"
          ]
        }
      ]
    },
    {
      "cell_type": "markdown",
      "source": [
        "## ***"
      ],
      "metadata": {
        "id": "hLsdloCcAHKE"
      }
    },
    {
      "cell_type": "markdown",
      "source": [
        "Você recebeu um desafio de calcular a raiz quadrada de uma lista de números, identificando quais resultaram em um número inteiro. A lista é a seguinte: numeros = [2, 8, 15, 23, 91, 112, 256]"
      ],
      "metadata": {
        "id": "uDU9q4iYAI7b"
      }
    },
    {
      "cell_type": "code",
      "source": [
        "import math\n",
        "\n",
        "numeros = [2, 8, 15, 23, 91, 112, 256]\n",
        "for i in numeros:\n",
        "  raiz = math.sqrt(i)\n",
        "  if raiz % 1 == 0: ##Se float, então raiz % 1 != 0.\n",
        "    print(f'A raiz de {i} retorna um número inteiro: {raiz}')"
      ],
      "metadata": {
        "colab": {
          "base_uri": "https://localhost:8080/"
        },
        "id": "aBOsfYTsAOY8",
        "outputId": "20d95f4b-ecd3-435c-98db-33dc8a66a4da"
      },
      "execution_count": 28,
      "outputs": [
        {
          "output_type": "stream",
          "name": "stdout",
          "text": [
            "A raiz de 256 retorna um número inteiro: 16.0\n"
          ]
        }
      ]
    },
    {
      "cell_type": "markdown",
      "source": [
        "## ***"
      ],
      "metadata": {
        "id": "aKhb_NC2BkMT"
      }
    },
    {
      "cell_type": "markdown",
      "source": [
        "Faça um programa para uma loja que vende grama para jardins. Essa loja trabalha com jardins circulares e o preço do metro quadrado da grama é de R$ 25,00. Peça à pessoa usuária o raio da área circular e devolva o valor em reais do quanto precisará pagar."
      ],
      "metadata": {
        "id": "dnuzh1P7BlcT"
      }
    },
    {
      "cell_type": "code",
      "source": [
        "import math\n",
        "\n",
        "raio = int(input('Informe o raio da área circular: '))\n",
        "area = math.pi*(math.pow(raio, 2))\n",
        "preco = 25*area\n",
        "print(f'O valor a ser pago é de R$ {preco:.2f}')"
      ],
      "metadata": {
        "colab": {
          "base_uri": "https://localhost:8080/"
        },
        "id": "YeV0lcPjBrAV",
        "outputId": "22fd9edf-f6b6-4cda-d430-4186753af297"
      },
      "execution_count": 34,
      "outputs": [
        {
          "output_type": "stream",
          "name": "stdout",
          "text": [
            "Informe o raio da área circular: 2\n",
            "O valor a ser pago é de R$ 314.16\n"
          ]
        }
      ]
    },
    {
      "cell_type": "markdown",
      "source": [
        "## ***"
      ],
      "metadata": {
        "id": "odnr9wo7CnwL"
      }
    },
    {
      "cell_type": "markdown",
      "source": [],
      "metadata": {
        "id": "leGce0jdCpF7"
      }
    }
  ]
}