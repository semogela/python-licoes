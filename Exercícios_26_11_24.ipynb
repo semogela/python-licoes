{
  "nbformat": 4,
  "nbformat_minor": 0,
  "metadata": {
    "colab": {
      "provenance": [],
      "authorship_tag": "ABX9TyMhKOGkfNhzHLJcjXJGTJo7",
      "include_colab_link": true
    },
    "kernelspec": {
      "name": "python3",
      "display_name": "Python 3"
    },
    "language_info": {
      "name": "python"
    }
  },
  "cells": [
    {
      "cell_type": "markdown",
      "metadata": {
        "id": "view-in-github",
        "colab_type": "text"
      },
      "source": [
        "<a href=\"https://colab.research.google.com/github/semogela/python-licoes/blob/main/Exerc%C3%ADcios_26_11_24.ipynb\" target=\"_parent\"><img src=\"https://colab.research.google.com/assets/colab-badge.svg\" alt=\"Open In Colab\"/></a>"
      ]
    },
    {
      "cell_type": "markdown",
      "source": [],
      "metadata": {
        "id": "rJwlQ_7b5PWg"
      }
    },
    {
      "cell_type": "markdown",
      "source": [
        "Escreva um código que lê a lista abaixo e faça:\n",
        "\n",
        "lista = [16, 14, 63, 65, 17, 99, 70, 11, 20, 48, 79, 32, 17, 89, 12, 25, 66]\n",
        "\n",
        "* A leitura do tamanho da lista\n",
        "* A leitura do maior e menor valor\n",
        "* A soma dos valores da lista\n",
        "\n",
        "Ao final exiba uma mensagem dizendo:\n",
        "\n",
        "\"A lista possui [tam] números em que o maior número é [maior] e o menor número é [menor]. A soma dos valores presentes nela é igual a [soma]\""
      ],
      "metadata": {
        "id": "lfZZVGkuC6Ft"
      }
    },
    {
      "cell_type": "code",
      "source": [
        "lista = [16, 14, 63, 65, 17, 99, 70, 11, 20, 48, 79, 32, 17, 89, 12, 25, 66]"
      ],
      "metadata": {
        "id": "EeNOQmk_DFUs"
      },
      "execution_count": null,
      "outputs": []
    },
    {
      "cell_type": "code",
      "source": [
        "len(lista)"
      ],
      "metadata": {
        "colab": {
          "base_uri": "https://localhost:8080/"
        },
        "id": "AqsLrF6KDH4d",
        "outputId": "7717236a-0eef-4989-f145-944dedfc2c4a"
      },
      "execution_count": null,
      "outputs": [
        {
          "output_type": "execute_result",
          "data": {
            "text/plain": [
              "17"
            ]
          },
          "metadata": {},
          "execution_count": 15
        }
      ]
    },
    {
      "cell_type": "code",
      "source": [
        "##min(lista)"
      ],
      "metadata": {
        "colab": {
          "base_uri": "https://localhost:8080/"
        },
        "id": "kURc_2ZWDMLN",
        "outputId": "25d77802-85a2-4b65-9d78-6ae0b58f7cda"
      },
      "execution_count": null,
      "outputs": [
        {
          "output_type": "execute_result",
          "data": {
            "text/plain": [
              "11"
            ]
          },
          "metadata": {},
          "execution_count": 18
        }
      ]
    },
    {
      "cell_type": "code",
      "source": [
        "##max(lista)"
      ],
      "metadata": {
        "colab": {
          "base_uri": "https://localhost:8080/"
        },
        "id": "9FUrxAZbDW5k",
        "outputId": "99f9e02f-f86b-4ec9-9b96-6847111d6a11"
      },
      "execution_count": null,
      "outputs": [
        {
          "output_type": "execute_result",
          "data": {
            "text/plain": [
              "99"
            ]
          },
          "metadata": {},
          "execution_count": 19
        }
      ]
    },
    {
      "cell_type": "code",
      "source": [
        "sum(lista)"
      ],
      "metadata": {
        "colab": {
          "base_uri": "https://localhost:8080/"
        },
        "id": "OJd67aSNDbRl",
        "outputId": "f50ec011-7188-4447-ce50-1f90b60aa3ec"
      },
      "execution_count": null,
      "outputs": [
        {
          "output_type": "execute_result",
          "data": {
            "text/plain": [
              "743"
            ]
          },
          "metadata": {},
          "execution_count": 20
        }
      ]
    },
    {
      "cell_type": "markdown",
      "source": [],
      "metadata": {
        "id": "LuFvZGmlDsBc"
      }
    },
    {
      "cell_type": "code",
      "source": [
        "print(f'A lista possui {len(lista)} números em que o maior número é {max(lista)} e o menor '\n",
        " f'número é {min(lista)}. A soma dos valores presentes nela é igual a {sum(lista)}')"
      ],
      "metadata": {
        "colab": {
          "base_uri": "https://localhost:8080/"
        },
        "id": "Frbk_HEVDgH9",
        "outputId": "9f3eeaf9-278d-4d4a-8f19-b7a47ad2a938"
      },
      "execution_count": null,
      "outputs": [
        {
          "output_type": "stream",
          "name": "stdout",
          "text": [
            "A lista possui 17 números em que o maior número é 99 e o menor número é 11. A soma dos valores presentes nela é igual a 743\n"
          ]
        }
      ]
    },
    {
      "cell_type": "markdown",
      "source": [
        "## ***"
      ],
      "metadata": {
        "id": "QY4Ud7PgD5Bd"
      }
    },
    {
      "cell_type": "markdown",
      "source": [
        "Escreva uma função que gere a tabuada de um número inteiro de 1 a 10, de acordo com a escolha da pessoa usuária. Como exemplo, para o número 7, a tabuada deve ser mostrada no seguinte formato:\n",
        "\n",
        "Tabuada do 7:\n",
        "7 x 0 = 0\n",
        "7 x 1 = 7\n",
        "[...]\n",
        "7 x 10 = 70"
      ],
      "metadata": {
        "id": "AHRghy7gD8yM"
      }
    },
    {
      "cell_type": "code",
      "source": [
        "valor = float(input('Digite um número para calcularmos a tabuada: '))\n",
        "\n",
        "resultado = list(map(lambda x: valor * x, range(11)))\n",
        "\n",
        "print(f'Tabuada do {valor}: ')\n",
        "for i in range(11):\n",
        "    print(f'{valor} x {i} = {resultado[i]}')"
      ],
      "metadata": {
        "colab": {
          "base_uri": "https://localhost:8080/"
        },
        "id": "ug40EexVEDM9",
        "outputId": "8f6f142d-385a-4e52-c084-d32088f69283"
      },
      "execution_count": null,
      "outputs": [
        {
          "output_type": "stream",
          "name": "stdout",
          "text": [
            "Digite um número para calcularmos a tabuada: 7\n",
            "Tabuada do 7.0: \n",
            "7.0 x 0 = 0.0\n",
            "7.0 x 1 = 7.0\n",
            "7.0 x 2 = 14.0\n",
            "7.0 x 3 = 21.0\n",
            "7.0 x 4 = 28.0\n",
            "7.0 x 5 = 35.0\n",
            "7.0 x 6 = 42.0\n",
            "7.0 x 7 = 49.0\n",
            "7.0 x 8 = 56.0\n",
            "7.0 x 9 = 63.0\n",
            "7.0 x 10 = 70.0\n"
          ]
        }
      ]
    },
    {
      "cell_type": "markdown",
      "source": [
        "## ***"
      ],
      "metadata": {
        "id": "NTztG1kpFUDs"
      }
    },
    {
      "cell_type": "markdown",
      "source": [
        "Crie a função que leia a lista abaixo e retorne uma nova lista com os múltiplos de 3:\n",
        "\n",
        "[97, 80, 94, 88, 80, 1, 16, 53, 62, 32, 24, 99]\n",
        "\n",
        "Utilize o return na função e salve a nova lista na variável mult_3."
      ],
      "metadata": {
        "id": "HzjxdmVmFWBb"
      }
    },
    {
      "cell_type": "code",
      "source": [
        "lista = [97, 80, 94, 88, 80, 1, 16, 53, 62, 32, 24, 99]\n",
        "\n",
        "mult_3 = list(filter(lambda x: x % 3 == 0, lista))\n",
        "mult_3"
      ],
      "metadata": {
        "colab": {
          "base_uri": "https://localhost:8080/"
        },
        "id": "vxKOvVHsFccE",
        "outputId": "2f17e32b-9759-46c9-ce6c-7441ded88b9f"
      },
      "execution_count": null,
      "outputs": [
        {
          "output_type": "execute_result",
          "data": {
            "text/plain": [
              "[24, 99]"
            ]
          },
          "metadata": {},
          "execution_count": 30
        }
      ]
    },
    {
      "cell_type": "markdown",
      "source": [
        "## ***"
      ],
      "metadata": {
        "id": "x-6PoHEiIj28"
      }
    },
    {
      "cell_type": "markdown",
      "source": [
        "Crie uma lista dos quadrados dos números da seguinte lista [1, 2, 3, 4, 5, 6, 7, 8, 9, 10]. Lembre-se de utilizar as funções lambda e map() para calcular o quadrado de cada elemento da lista."
      ],
      "metadata": {
        "id": "p9YAuh3tIlgK"
      }
    },
    {
      "cell_type": "code",
      "source": [
        "import math\n",
        "lista = [1, 2, 3, 4, 5, 6, 7, 8, 9, 10]\n",
        "\n",
        "quadrado_lista = list(map(lambda x: math.pow(x, 2), lista))\n",
        "quadrado_lista"
      ],
      "metadata": {
        "colab": {
          "base_uri": "https://localhost:8080/"
        },
        "id": "7iwYwDZyIm_K",
        "outputId": "bff62c3a-c8ea-4017-ec8e-ded307e1e9e3"
      },
      "execution_count": null,
      "outputs": [
        {
          "output_type": "execute_result",
          "data": {
            "text/plain": [
              "[1.0, 4.0, 9.0, 16.0, 25.0, 36.0, 49.0, 64.0, 81.0, 100.0]"
            ]
          },
          "metadata": {},
          "execution_count": 32
        }
      ]
    },
    {
      "cell_type": "markdown",
      "source": [
        "## ***"
      ],
      "metadata": {
        "id": "gwAhKr7HJ7R7"
      }
    },
    {
      "cell_type": "markdown",
      "source": [],
      "metadata": {
        "id": "zD412rpnJ9kU"
      }
    },
    {
      "cell_type": "markdown",
      "source": [
        "Você foi contratado(a) como cientista de dados de uma associação de skate. Para analisar as notas recebidas de skatistas em algumas competições ao longo do ano, você precisa criar um código que calcula a pontuação dos(as) atletas. Para isso, o seu código deve receber 5 notas digitadas pelas pessoas juradas.\n",
        "\n",
        "Para calcular a pontuação de um(a) skatista, você precisa eliminar a maior e a menor pontuação dentre as 5 notas e tirar a média das 3 notas que sobraram. Retorne a média para apresentar o texto:\n",
        "\n",
        "\"Nota da manobra: [media]\""
      ],
      "metadata": {
        "id": "XO23X2N2J82K"
      }
    },
    {
      "cell_type": "code",
      "source": [
        "nota = list(map(lambda x: float(input(f'Digite a {x + 1}ª nota: ')), range(5)))"
      ],
      "metadata": {
        "colab": {
          "base_uri": "https://localhost:8080/"
        },
        "id": "uYfuH45YjrXC",
        "outputId": "833ee261-3e9a-4651-ec36-414595f7d7b7"
      },
      "execution_count": 125,
      "outputs": [
        {
          "name": "stdout",
          "output_type": "stream",
          "text": [
            "Digite a 1ª nota: 10\n",
            "Digite a 2ª nota: 2\n",
            "Digite a 3ª nota: 1\n",
            "Digite a 4ª nota: 6\n",
            "Digite a 5ª nota: 8\n"
          ]
        }
      ]
    },
    {
      "cell_type": "code",
      "source": [
        "maior = max(nota)\n",
        "nota.remove(maior)"
      ],
      "metadata": {
        "id": "sy7UekwZjxNr"
      },
      "execution_count": 126,
      "outputs": []
    },
    {
      "cell_type": "code",
      "source": [
        "menor = min(nota)\n",
        "nota.remove(menor)"
      ],
      "metadata": {
        "id": "5G_d_jF1ktpC"
      },
      "execution_count": 127,
      "outputs": []
    },
    {
      "cell_type": "code",
      "source": [
        "media = sum(nota) / len(nota)\n",
        "print(f'A nota da skatista é: {media}')"
      ],
      "metadata": {
        "colab": {
          "base_uri": "https://localhost:8080/"
        },
        "id": "vKTrSlfokwya",
        "outputId": "43538b31-4112-4634-b648-99974ce1ccea"
      },
      "execution_count": 128,
      "outputs": [
        {
          "output_type": "stream",
          "name": "stdout",
          "text": [
            "A nota da skatista é: 5.333333333333333\n"
          ]
        }
      ]
    },
    {
      "cell_type": "markdown",
      "source": [
        "## ***"
      ],
      "metadata": {
        "id": "ypK4IQjBlR4x"
      }
    },
    {
      "cell_type": "markdown",
      "source": [
        "Para atender a uma demanda de uma instituição de ensino para a análise do desempenho de seus(suas) estudantes, você precisa criar uma função que receba uma lista de 4 notas e retorne:\n",
        "\n",
        "*   Maior nota\n",
        "*   Menor nota\n",
        "*   Média\n",
        "*   Situação (Aprovado(a) ou Reprovado(a))\n",
        "\n",
        "Para testar o comportamento da função, os dados podem ser exibidos em um texto:\n",
        "\n",
        "\"O(a) estudante obteve uma média de [media], com a sua maior nota de [maior] pontos e a menor nota de [menor] e foi [situacao]."
      ],
      "metadata": {
        "id": "aKDlmkEElTFz"
      }
    },
    {
      "cell_type": "code",
      "source": [
        "def dados_desempenho(notas):\n",
        "  maior_nota = max(notas)\n",
        "  menor_nota = min(notas)\n",
        "  media = sum(notas) / len(notas)\n",
        "  if media >= 6:\n",
        "    situacao = True\n",
        "  else:\n",
        "    situacao = False\n",
        "  return maior_nota, menor_nota, media, situacao"
      ],
      "metadata": {
        "id": "soFhRgg8lT5x"
      },
      "execution_count": 133,
      "outputs": []
    },
    {
      "cell_type": "markdown",
      "source": [],
      "metadata": {
        "id": "US8f9o6Tn-wq"
      }
    },
    {
      "cell_type": "code",
      "source": [
        "lista_de_notas = list(map(lambda x: float(input(f'Digite a {x + 1}ª nota: ')), range(4)))"
      ],
      "metadata": {
        "colab": {
          "base_uri": "https://localhost:8080/"
        },
        "id": "K_gBEVySl9Gp",
        "outputId": "fdeaef9b-13c9-4dda-a591-1e40289273dc"
      },
      "execution_count": 134,
      "outputs": [
        {
          "name": "stdout",
          "output_type": "stream",
          "text": [
            "Digite a 1ª nota: 2\n",
            "Digite a 2ª nota: 1\n",
            "Digite a 3ª nota: 3\n",
            "Digite a 4ª nota: 1\n"
          ]
        }
      ]
    },
    {
      "cell_type": "code",
      "source": [
        "resultado = dados_desempenho(lista_de_notas)\n",
        "print(f'Maior nota: {resultado[0]}\\nMenor nota: {resultado[1]}\\n'\n",
        "      f'Média: {resultado[2]}')\n",
        "if resultado[3] == True:\n",
        "  print('Aprovada(o)!')\n",
        "else:\n",
        "  print('Reprovado.')"
      ],
      "metadata": {
        "colab": {
          "base_uri": "https://localhost:8080/"
        },
        "id": "LI1FWdLBmIoB",
        "outputId": "45875fcd-e6b6-4b3e-989c-f088e002c4f7"
      },
      "execution_count": 138,
      "outputs": [
        {
          "output_type": "stream",
          "name": "stdout",
          "text": [
            "Maior nota: 3.0\n",
            "Menor nota: 1.0\n",
            "Média: 1.75\n",
            "Reprovado.\n"
          ]
        }
      ]
    },
    {
      "cell_type": "markdown",
      "source": [
        "## ***"
      ],
      "metadata": {
        "id": "mDoGQOdAoBRY"
      }
    },
    {
      "cell_type": "markdown",
      "source": [
        "Você recebeu uma demanda para tratar 2 listas com os nomes e sobrenomes de cada estudante concatenando-as para apresentar seus nomes completos na forma Nome Sobrenome. As listas são:\n",
        "\n",
        "nomes = [\"joão\", \"MaRia\", \"JOSÉ\"]\n",
        "\n",
        "sobrenomes = [\"SILVA\", \"souza\", \"Tavares\"]\n",
        "\n",
        "O texto exibido ao fim deve ser parecido com:\n",
        "\n",
        "\"Nome completo: Ana Silva\""
      ],
      "metadata": {
        "id": "quKMM_zBoCXo"
      }
    },
    {
      "cell_type": "code",
      "source": [
        "nomes = [\"joão\", \"MaRia\", \"JOSÉ\"]\n",
        "sobrenomes = [\"SILVA\", \"souza\", \"Tavares\"]"
      ],
      "metadata": {
        "id": "YEkaJc-EoC_A"
      },
      "execution_count": 151,
      "outputs": []
    },
    {
      "cell_type": "code",
      "source": [
        "nomes = list(map(lambda x: x.lower(), nomes))\n",
        "nomes = list(map(lambda x: x.capitalize(), nomes))"
      ],
      "metadata": {
        "id": "4ixyoOmMoKLC"
      },
      "execution_count": 154,
      "outputs": []
    },
    {
      "cell_type": "code",
      "source": [
        "sobrenomes = list(map(lambda x: x.lower(), sobrenomes))\n",
        "sobrenomes = list(map(lambda x: x.capitalize(), sobrenomes))"
      ],
      "metadata": {
        "id": "hF0TRYyHo3xA"
      },
      "execution_count": 155,
      "outputs": []
    },
    {
      "cell_type": "code",
      "source": [
        "for i in range(len(nomes)):\n",
        "  print(f'Nome completo: {nomes[i]} {sobrenomes[i]}')"
      ],
      "metadata": {
        "colab": {
          "base_uri": "https://localhost:8080/"
        },
        "id": "SF2_d-EGpdbZ",
        "outputId": "1e09353c-aab1-4267-a249-3f200aa96e70"
      },
      "execution_count": 157,
      "outputs": [
        {
          "output_type": "stream",
          "name": "stdout",
          "text": [
            "Nome completo: João Silva\n",
            "Nome completo: Maria Souza\n",
            "Nome completo: José Tavares\n"
          ]
        }
      ]
    }
  ]
}