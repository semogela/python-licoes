{
  "nbformat": 4,
  "nbformat_minor": 0,
  "metadata": {
    "colab": {
      "provenance": [],
      "authorship_tag": "ABX9TyPpXq98hYZBUja64AjjhEoG",
      "include_colab_link": true
    },
    "kernelspec": {
      "name": "python3",
      "display_name": "Python 3"
    },
    "language_info": {
      "name": "python"
    }
  },
  "cells": [
    {
      "cell_type": "markdown",
      "metadata": {
        "id": "view-in-github",
        "colab_type": "text"
      },
      "source": [
        "<a href=\"https://colab.research.google.com/github/semogela/python-licoes/blob/main/Exerc%C3%ADcios_26_11_24.ipynb\" target=\"_parent\"><img src=\"https://colab.research.google.com/assets/colab-badge.svg\" alt=\"Open In Colab\"/></a>"
      ]
    },
    {
      "cell_type": "markdown",
      "source": [],
      "metadata": {
        "id": "rJwlQ_7b5PWg"
      }
    },
    {
      "cell_type": "markdown",
      "source": [
        "Escreva um código que lê a lista abaixo e faça:\n",
        "\n",
        "lista = [16, 14, 63, 65, 17, 99, 70, 11, 20, 48, 79, 32, 17, 89, 12, 25, 66]\n",
        "\n",
        "A leitura do tamanho da lista\n",
        "A leitura do maior e menor valor\n",
        "A soma dos valores da lista\n",
        "Ao final exiba uma mensagem dizendo:\n",
        "\n",
        "\"A lista possui [tam] números em que o maior número é [maior] e o menor número é [menor]. A soma dos valores presentes nela é igual a [soma]\""
      ],
      "metadata": {
        "id": "lfZZVGkuC6Ft"
      }
    },
    {
      "cell_type": "code",
      "source": [
        "lista = [16, 14, 63, 65, 17, 99, 70, 11, 20, 48, 79, 32, 17, 89, 12, 25, 66]"
      ],
      "metadata": {
        "id": "EeNOQmk_DFUs"
      },
      "execution_count": 14,
      "outputs": []
    },
    {
      "cell_type": "code",
      "source": [
        "len(lista)"
      ],
      "metadata": {
        "colab": {
          "base_uri": "https://localhost:8080/"
        },
        "id": "AqsLrF6KDH4d",
        "outputId": "7717236a-0eef-4989-f145-944dedfc2c4a"
      },
      "execution_count": 15,
      "outputs": [
        {
          "output_type": "execute_result",
          "data": {
            "text/plain": [
              "17"
            ]
          },
          "metadata": {},
          "execution_count": 15
        }
      ]
    },
    {
      "cell_type": "code",
      "source": [
        "min(lista)"
      ],
      "metadata": {
        "colab": {
          "base_uri": "https://localhost:8080/"
        },
        "id": "kURc_2ZWDMLN",
        "outputId": "25d77802-85a2-4b65-9d78-6ae0b58f7cda"
      },
      "execution_count": 18,
      "outputs": [
        {
          "output_type": "execute_result",
          "data": {
            "text/plain": [
              "11"
            ]
          },
          "metadata": {},
          "execution_count": 18
        }
      ]
    },
    {
      "cell_type": "code",
      "source": [
        "max(lista)"
      ],
      "metadata": {
        "colab": {
          "base_uri": "https://localhost:8080/"
        },
        "id": "9FUrxAZbDW5k",
        "outputId": "99f9e02f-f86b-4ec9-9b96-6847111d6a11"
      },
      "execution_count": 19,
      "outputs": [
        {
          "output_type": "execute_result",
          "data": {
            "text/plain": [
              "99"
            ]
          },
          "metadata": {},
          "execution_count": 19
        }
      ]
    },
    {
      "cell_type": "code",
      "source": [
        "sum(lista)"
      ],
      "metadata": {
        "colab": {
          "base_uri": "https://localhost:8080/"
        },
        "id": "OJd67aSNDbRl",
        "outputId": "f50ec011-7188-4447-ce50-1f90b60aa3ec"
      },
      "execution_count": 20,
      "outputs": [
        {
          "output_type": "execute_result",
          "data": {
            "text/plain": [
              "743"
            ]
          },
          "metadata": {},
          "execution_count": 20
        }
      ]
    },
    {
      "cell_type": "markdown",
      "source": [],
      "metadata": {
        "id": "LuFvZGmlDsBc"
      }
    },
    {
      "cell_type": "code",
      "source": [
        "print(f'A lista possui {len(lista)} números em que o maior número é {max(lista)} e o menor '\n",
        " f'número é {min(lista)}. A soma dos valores presentes nela é igual a {sum(lista)}')"
      ],
      "metadata": {
        "colab": {
          "base_uri": "https://localhost:8080/"
        },
        "id": "Frbk_HEVDgH9",
        "outputId": "9f3eeaf9-278d-4d4a-8f19-b7a47ad2a938"
      },
      "execution_count": 22,
      "outputs": [
        {
          "output_type": "stream",
          "name": "stdout",
          "text": [
            "A lista possui 17 números em que o maior número é 99 e o menor número é 11. A soma dos valores presentes nela é igual a 743\n"
          ]
        }
      ]
    },
    {
      "cell_type": "markdown",
      "source": [
        "## ***"
      ],
      "metadata": {
        "id": "QY4Ud7PgD5Bd"
      }
    },
    {
      "cell_type": "markdown",
      "source": [
        "Escreva uma função que gere a tabuada de um número inteiro de 1 a 10, de acordo com a escolha da pessoa usuária. Como exemplo, para o número 7, a tabuada deve ser mostrada no seguinte formato:\n",
        "\n",
        "Tabuada do 7:\n",
        "7 x 0 = 0\n",
        "7 x 1 = 7\n",
        "[...]\n",
        "7 x 10 = 70"
      ],
      "metadata": {
        "id": "AHRghy7gD8yM"
      }
    },
    {
      "cell_type": "code",
      "source": [
        "valor = float(input('Digite um número para calcularmos a tabuada: '))\n",
        "\n",
        "resultado = list(map(lambda x: valor * x , range(11)))\n",
        "\n",
        "print(f'Tabuada do {valor}: ')\n",
        "for i in range(11):\n",
        "    print(f'{valor} x {i} = {resultado[i]}')"
      ],
      "metadata": {
        "colab": {
          "base_uri": "https://localhost:8080/"
        },
        "id": "ug40EexVEDM9",
        "outputId": "8f6f142d-385a-4e52-c084-d32088f69283"
      },
      "execution_count": 28,
      "outputs": [
        {
          "output_type": "stream",
          "name": "stdout",
          "text": [
            "Digite um número para calcularmos a tabuada: 7\n",
            "Tabuada do 7.0: \n",
            "7.0 x 0 = 0.0\n",
            "7.0 x 1 = 7.0\n",
            "7.0 x 2 = 14.0\n",
            "7.0 x 3 = 21.0\n",
            "7.0 x 4 = 28.0\n",
            "7.0 x 5 = 35.0\n",
            "7.0 x 6 = 42.0\n",
            "7.0 x 7 = 49.0\n",
            "7.0 x 8 = 56.0\n",
            "7.0 x 9 = 63.0\n",
            "7.0 x 10 = 70.0\n"
          ]
        }
      ]
    },
    {
      "cell_type": "markdown",
      "source": [
        "## ***"
      ],
      "metadata": {
        "id": "NTztG1kpFUDs"
      }
    },
    {
      "cell_type": "markdown",
      "source": [
        "Crie a função que leia a lista abaixo e retorne uma nova lista com os múltiplos de 3:\n",
        "\n",
        "[97, 80, 94, 88, 80, 1, 16, 53, 62, 32, 24, 99]\n",
        "\n",
        "Utilize o return na função e salve a nova lista na variável mult_3.\n",
        "\n",
        "4. Crie uma lista dos quadrados dos números da seguinte lista [1, 2, 3, 4, 5, 6, 7, 8, 9, 10]. Lembre-se de utilizar as funções lambda e map() para calcular o quadrado de cada elemento da lista."
      ],
      "metadata": {
        "id": "HzjxdmVmFWBb"
      }
    },
    {
      "cell_type": "code",
      "source": [
        "lista = [97, 80, 94, 88, 80, 1, 16, 53, 62, 32, 24, 99]\n",
        "\n",
        "mult_3 = list(filter(lambda x: x % 3 == 0, lista))\n",
        "mult_3"
      ],
      "metadata": {
        "colab": {
          "base_uri": "https://localhost:8080/"
        },
        "id": "vxKOvVHsFccE",
        "outputId": "2f17e32b-9759-46c9-ce6c-7441ded88b9f"
      },
      "execution_count": 30,
      "outputs": [
        {
          "output_type": "execute_result",
          "data": {
            "text/plain": [
              "[24, 99]"
            ]
          },
          "metadata": {},
          "execution_count": 30
        }
      ]
    }
  ]
}