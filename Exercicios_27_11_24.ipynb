{
 "cells": [
  {
   "cell_type": "markdown",
   "id": "d4fc6f96-1d1c-4cbf-ade9-0762493fd707",
   "metadata": {},
   "source": [
    "1. Crie um código para imprimir a soma dos elementos de cada uma das listas contidas na seguinte lista:"
   ]
  },
  {
   "cell_type": "code",
   "execution_count": 7,
   "id": "5e254648-7c09-45ff-970e-4fb4b1ef283b",
   "metadata": {},
   "outputs": [],
   "source": [
    "lista_de_listas = [[4,6,5,9], [1,0,7,2], [3,4,1,8]]"
   ]
  },
  {
   "cell_type": "code",
   "execution_count": 9,
   "id": "8bb2600f-726c-4bb7-bf88-d4d06ba80893",
   "metadata": {},
   "outputs": [
    {
     "data": {
      "text/plain": [
       "[6.0, 2.5, 4.0]"
      ]
     },
     "execution_count": 9,
     "metadata": {},
     "output_type": "execute_result"
    }
   ],
   "source": [
    "media = [sum(lista)/len(lista) for lista in lista_de_listas]\n",
    "media"
   ]
  },
  {
   "cell_type": "markdown",
   "id": "647cdc51-f40d-4008-a668-adce45453dab",
   "metadata": {},
   "source": [
    "2. Crie um código para gerar uma lista que armazena o terceiro elemento de cada tupla contida na seguinte lista de tuplas:"
   ]
  },
  {
   "cell_type": "code",
   "execution_count": 13,
   "id": "ce863065-60d8-4740-b48f-cebb7c417780",
   "metadata": {},
   "outputs": [],
   "source": [
    "lista_de_tuplas = [('Pedro', 1.74, 81), ('Júlia', 1.65, 67), ('Otávio', 1.81, 83)]"
   ]
  },
  {
   "cell_type": "code",
   "execution_count": 18,
   "id": "d33e1870-9c3f-4bde-9eb2-481ca7fc95cd",
   "metadata": {},
   "outputs": [
    {
     "data": {
      "text/plain": [
       "[81, 67, 83]"
      ]
     },
     "execution_count": 18,
     "metadata": {},
     "output_type": "execute_result"
    }
   ],
   "source": [
    "terceiro_elemento = [lista[2] for lista in lista_de_tuplas]\n",
    "terceiro_elemento"
   ]
  },
  {
   "cell_type": "markdown",
   "id": "aaffa832-bdd6-4c29-98ef-0961d1fb02c3",
   "metadata": {},
   "source": [
    "3. A partir da lista: lista = ['Pedro', 'Júlia', 'Otávio', 'Eduardo'], crie um código para gerar uma lista de tuplas em que cada tupla tenha o primeiro elemento como a posição do nome na lista original e o segundo elemento sendo o próprio nome."
   ]
  },
  {
   "cell_type": "code",
   "execution_count": 148,
   "id": "ac1e9967-e3d1-4558-abde-fc52b9ac4591",
   "metadata": {},
   "outputs": [],
   "source": [
    "lista = ['Pedro', 'Júlia', 'Otávio', 'Eduardo']"
   ]
  },
  {
   "cell_type": "code",
   "execution_count": 156,
   "id": "ad704603-37c3-43eb-acc4-185b4364295f",
   "metadata": {},
   "outputs": [
    {
     "data": {
      "text/plain": [
       "['P', 'J', 'O', 'E']"
      ]
     },
     "execution_count": 156,
     "metadata": {},
     "output_type": "execute_result"
    }
   ],
   "source": [
    "primeiro_elemento = [(lista[i][0]) for i in range(len(lista))]\n",
    "primeiro_elemento"
   ]
  },
  {
   "cell_type": "code",
   "execution_count": 130,
   "id": "9c5e2be1-e5bb-461f-b422-5023a193d0c1",
   "metadata": {},
   "outputs": [
    {
     "data": {
      "text/plain": [
       "[('Pedro', 'P'), ('Júlia', 'J'), ('Otávio', 'O'), ('Eduardo', 'E')]"
      ]
     },
     "execution_count": 130,
     "metadata": {},
     "output_type": "execute_result"
    }
   ],
   "source": [
    "lista_de_tuplas = list(zip(lista, primeiro_elemento))\n",
    "lista_de_tuplas"
   ]
  },
  {
   "cell_type": "code",
   "execution_count": null,
   "id": "3edf4a9d-49b5-420b-8ea3-2cef83140229",
   "metadata": {},
   "outputs": [],
   "source": []
  }
 ],
 "metadata": {
  "kernelspec": {
   "display_name": "Python 3 (ipykernel)",
   "language": "python",
   "name": "python3"
  },
  "language_info": {
   "codemirror_mode": {
    "name": "ipython",
    "version": 3
   },
   "file_extension": ".py",
   "mimetype": "text/x-python",
   "name": "python",
   "nbconvert_exporter": "python",
   "pygments_lexer": "ipython3",
   "version": "3.12.4"
  }
 },
 "nbformat": 4,
 "nbformat_minor": 5
}
