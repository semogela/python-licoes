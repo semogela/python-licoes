{
 "cells": [
  {
   "cell_type": "markdown",
   "id": "d4fc6f96-1d1c-4cbf-ade9-0762493fd707",
   "metadata": {},
   "source": [
    "1. Crie um código para imprimir a soma dos elementos de cada uma das listas contidas na seguinte lista:"
   ]
  },
  {
   "cell_type": "code",
   "execution_count": 7,
   "id": "5e254648-7c09-45ff-970e-4fb4b1ef283b",
   "metadata": {},
   "outputs": [],
   "source": [
    "lista_de_listas = [[4,6,5,9], [1,0,7,2], [3,4,1,8]]"
   ]
  },
  {
   "cell_type": "code",
   "execution_count": 9,
   "id": "8bb2600f-726c-4bb7-bf88-d4d06ba80893",
   "metadata": {},
   "outputs": [
    {
     "data": {
      "text/plain": [
       "[6.0, 2.5, 4.0]"
      ]
     },
     "execution_count": 9,
     "metadata": {},
     "output_type": "execute_result"
    }
   ],
   "source": [
    "media = [sum(lista)/len(lista) for lista in lista_de_listas]\n",
    "media"
   ]
  },
  {
   "cell_type": "markdown",
   "id": "647cdc51-f40d-4008-a668-adce45453dab",
   "metadata": {},
   "source": [
    "2. Crie um código para gerar uma lista que armazena o terceiro elemento de cada tupla contida na seguinte lista de tuplas:"
   ]
  },
  {
   "cell_type": "code",
   "execution_count": 13,
   "id": "ce863065-60d8-4740-b48f-cebb7c417780",
   "metadata": {},
   "outputs": [],
   "source": [
    "lista_de_tuplas = [('Pedro', 1.74, 81), ('Júlia', 1.65, 67), ('Otávio', 1.81, 83)]"
   ]
  },
  {
   "cell_type": "code",
   "execution_count": 18,
   "id": "d33e1870-9c3f-4bde-9eb2-481ca7fc95cd",
   "metadata": {},
   "outputs": [
    {
     "data": {
      "text/plain": [
       "[81, 67, 83]"
      ]
     },
     "execution_count": 18,
     "metadata": {},
     "output_type": "execute_result"
    }
   ],
   "source": [
    "terceiro_elemento = [lista[2] for lista in lista_de_tuplas]\n",
    "terceiro_elemento"
   ]
  },
  {
   "cell_type": "markdown",
   "id": "aaffa832-bdd6-4c29-98ef-0961d1fb02c3",
   "metadata": {},
   "source": [
    "3. A partir da lista: lista = ['Pedro', 'Júlia', 'Otávio', 'Eduardo'], crie um código para gerar uma lista de tuplas em que cada tupla tenha o primeiro elemento como a posição do nome na lista original e o segundo elemento sendo o próprio nome."
   ]
  },
  {
   "cell_type": "code",
   "execution_count": 4,
   "id": "ac1e9967-e3d1-4558-abde-fc52b9ac4591",
   "metadata": {},
   "outputs": [],
   "source": [
    "lista = ['Pedro', 'Júlia', 'Otávio', 'Eduardo']"
   ]
  },
  {
   "cell_type": "code",
   "execution_count": 10,
   "id": "ad704603-37c3-43eb-acc4-185b4364295f",
   "metadata": {},
   "outputs": [
    {
     "data": {
      "text/plain": [
       "['P', 'J', 'O', 'E']"
      ]
     },
     "execution_count": 10,
     "metadata": {},
     "output_type": "execute_result"
    }
   ],
   "source": [
    "primeiro_elemento = [(lista[elemento][0]) for elemento in range(len(lista))]\n",
    "primeiro_elemento"
   ]
  },
  {
   "cell_type": "code",
   "execution_count": 12,
   "id": "9c5e2be1-e5bb-461f-b422-5023a193d0c1",
   "metadata": {},
   "outputs": [
    {
     "data": {
      "text/plain": [
       "[('P', 'Pedro'), ('J', 'Júlia'), ('O', 'Otávio'), ('E', 'Eduardo')]"
      ]
     },
     "execution_count": 12,
     "metadata": {},
     "output_type": "execute_result"
    }
   ],
   "source": [
    "lista_de_tuplas = list(zip(primeiro_elemento, lista))\n",
    "lista_de_tuplas"
   ]
  },
  {
   "cell_type": "markdown",
   "id": "f3df9a25-387b-4177-abb2-1af258b589e1",
   "metadata": {},
   "source": [
    "4. Crie uma lista usando o list comprehension que armazena somente o valor numérico de cada tupla caso o primeiro elemento seja 'Apartamento', a partir da seguinte lista de tuplas:\n",
    "\n",
    "aluguel = [('Apartamento', 1700), ('Apartamento', 1400), ('Casa', 2150), ('Apartamento', 1900), ('Casa', 1100)]"
   ]
  },
  {
   "cell_type": "code",
   "execution_count": 15,
   "id": "9805e764-00b7-4cf5-9190-78555e3c2061",
   "metadata": {},
   "outputs": [],
   "source": [
    "aluguel = [('Apartamento', 1700), ('Apartamento', 1400), ('Casa', 2150), ('Apartamento', 1900), ('Casa', 1100)]"
   ]
  },
  {
   "cell_type": "code",
   "execution_count": 17,
   "id": "59740323-f247-4ed1-b50a-fd95d844dff6",
   "metadata": {},
   "outputs": [
    {
     "data": {
      "text/plain": [
       "[1700, 1400, 1900]"
      ]
     },
     "execution_count": 17,
     "metadata": {},
     "output_type": "execute_result"
    }
   ],
   "source": [
    "aluguel_apartamentos = [aluguel[i][1] for i in range(len(aluguel)) if aluguel[i][0] == 'Apartamento']\n",
    "aluguel_apartamentos"
   ]
  },
  {
   "cell_type": "markdown",
   "id": "da041502-49e7-4583-9ed8-ae6ce83ad403",
   "metadata": {},
   "source": [
    "5. Crie um dicionário usando o dict comprehension em que as chaves estão na lista meses = ['Jan', 'Fev', 'Mar', 'Abr', 'Mai', 'Jun', 'Jul', 'Ago', 'Set', 'Out', 'Nov', 'Dez'] e os valores estão em despesa = [860, 490, 1010, 780, 900, 630, 590, 770, 620, 560, 840, 360]."
   ]
  },
  {
   "cell_type": "code",
   "execution_count": 20,
   "id": "a9d934f6-fceb-4bdd-aba5-94ce79c6dc02",
   "metadata": {},
   "outputs": [],
   "source": [
    "meses = ['Jan', 'Fev', 'Mar', 'Abr', 'Mai', 'Jun', 'Jul', 'Ago', 'Set', 'Out', 'Nov', 'Dez']\n",
    "despesa = [860, 490, 1010, 780, 900, 630, 590, 770, 620, 560, 840, 360]"
   ]
  },
  {
   "cell_type": "code",
   "execution_count": 40,
   "id": "42d2cede-56cc-44bf-8233-2b25423c92f2",
   "metadata": {},
   "outputs": [
    {
     "name": "stdout",
     "output_type": "stream",
     "text": [
      "{'Jan': 860, 'Fev': 490, 'Mar': 1010, 'Abr': 780, 'Mai': 900, 'Jun': 630, 'Jul': 590, 'Ago': 770, 'Set': 620, 'Out': 560, 'Nov': 840, 'Dez': 360}\n"
     ]
    }
   ],
   "source": [
    "meses_despesa = dict(zip(meses, despesa)) #Foi a forma que encontrei de fazer, mas não está usando dict comprehension.\n",
    "print(meses_despesa)"
   ]
  },
  {
   "cell_type": "code",
   "execution_count": 48,
   "id": "d83ba214-129d-44e0-97ff-22f28d36791e",
   "metadata": {},
   "outputs": [
    {
     "name": "stdout",
     "output_type": "stream",
     "text": [
      "{'Jan': 860, 'Fev': 490, 'Mar': 1010, 'Abr': 780, 'Mai': 900, 'Jun': 630, 'Jul': 590, 'Ago': 770, 'Set': 620, 'Out': 560, 'Nov': 840, 'Dez': 360}\n"
     ]
    }
   ],
   "source": [
    "dicionario = {meses[i]: despesa[i] for i in range(len(meses))}\n",
    "print(dicionario) #Usando dict comprehension."
   ]
  },
  {
   "cell_type": "markdown",
   "id": "a603c168-9398-41e8-90d2-353e76928f63",
   "metadata": {},
   "source": [
    "6. Uma loja possui um banco de dados com a informação de venda de cada representante e de cada ano e precisa filtrar somente os dados do ano 2022 com venda maior do que 6000. A loja forneceu uma amostra contendo apenas as colunas com os anos e os valores de venda para que você ajude a realizar a filtragem dos dados a partir de um código:\n",
    "\n",
    "vendas = [('2023', 4093), ('2021', 4320), ('2021', 5959), ('2022', 8883), ('2023', 9859), ('2022', 5141), ('2022', 7688), ('2022', 9544), ('2023', 4794), ('2021', 7178), ('2022', 3030), ('2021', 7471), ('2022', 4226), ('2022', 8190), ('2021', 9680), ('2022', 5616)]\n",
    "\n",
    "Crie uma lista usando list comprehension para filtrar os valores de 2022 e que sejam maiores que 6000.\n",
    "   "
   ]
  },
  {
   "cell_type": "code",
   "execution_count": 71,
   "id": "f926079e-2669-4123-91e8-232f67e81a71",
   "metadata": {},
   "outputs": [],
   "source": [
    "vendas = [('2023', 4093), ('2021', 4320), ('2021', 5959), ('2022', 8883), ('2023', 9859), ('2022', 5141), ('2022', 7688), ('2022', 9544), ('2023', 4794), ('2021', 7178), ('2022', 3030), ('2021', 7471), ('2022', 4226), ('2022', 8190), ('2021', 9680), ('2022', 5616)]"
   ]
  },
  {
   "cell_type": "code",
   "execution_count": 75,
   "id": "3d21e3c2-bd36-454d-bd0d-0cad17175ca4",
   "metadata": {},
   "outputs": [
    {
     "data": {
      "text/plain": [
       "[8883, 7688, 9544, 8190]"
      ]
     },
     "execution_count": 75,
     "metadata": {},
     "output_type": "execute_result"
    }
   ],
   "source": [
    "vendas_filtradas = [vendas[i][1] for i in range(len(vendas)) if (vendas[i][0] == '2022' and vendas[i][1] >= 6000)]\n",
    "vendas_filtradas"
   ]
  },
  {
   "cell_type": "markdown",
   "id": "4b5206ed-8baf-4df2-8654-aac4a0cf7aed",
   "metadata": {},
   "source": [
    "7. Uma clínica analisa dados de pacientes e armazena o valor numérico da glicose em um banco de dados e gostaria de rotular os dados da seguinte maneira:\n",
    "\n",
    "* Glicose igual ou inferior a 70: 'Hipoglicemia'\n",
    "* Glicose entre 70 a 99: 'Normal'\n",
    "* Glicose entre 100 e 125: 'Alterada'\n",
    "* Glicose superior a 125: 'Diabetes'\n",
    "\n",
    "A clínica disponibilizou parte dos valores e sua tarefa é criar uma lista de tuplas usando list comprehension contendo o rótulo e o valor da glicemia em cada tupla.\n",
    "\n",
    "glicemia = [129, 82, 60, 97, 101, 65, 62, 167, 87, 53, 58, 92, 66, 120, 109, 62, 86, 96, 103, 88, 155, 52, 89, 73]"
   ]
  },
  {
   "cell_type": "code",
   "execution_count": 78,
   "id": "9c214f08-11e1-4026-8666-34ee7f756e23",
   "metadata": {},
   "outputs": [],
   "source": [
    "glicemia = [129, 82, 60, 97, 101, 65, 62, 167, 87, 53, 58, 92, 66, 120, 109, 62, 86, 96, 103, 88, 155, 52, 89, 73]"
   ]
  },
  {
   "cell_type": "code",
   "execution_count": 118,
   "id": "9ae15259-400b-41ce-9cb2-576d3d7ea9ba",
   "metadata": {},
   "outputs": [
    {
     "name": "stdout",
     "output_type": "stream",
     "text": [
      "[('Normal', 82), ('Normal', 97), ('Normal', 87), ('Normal', 92), ('Normal', 86), ('Normal', 96), ('Normal', 88), ('Normal', 89), ('Normal', 73)]\n"
     ]
    }
   ],
   "source": [
    "hipoglicemia = [('Hipoglicemia', glicemia[i]) for i in range(len(glicemia)) if glicemia[i] <=70]\n",
    "print(rotulo)"
   ]
  },
  {
   "cell_type": "code",
   "execution_count": 120,
   "id": "0bc1ecae-8222-4d86-8315-d2f90a6e16f3",
   "metadata": {},
   "outputs": [
    {
     "name": "stdout",
     "output_type": "stream",
     "text": [
      "[('Normal', 82), ('Normal', 97), ('Normal', 87), ('Normal', 92), ('Normal', 86), ('Normal', 96), ('Normal', 88), ('Normal', 89), ('Normal', 73)]\n"
     ]
    }
   ],
   "source": [
    "normal = [('Normal', glicemia[i]) for i in range(len(glicemia)) if glicemia[i] > 70 and glicemia[i] <= 99]\n",
    "print(normal)"
   ]
  },
  {
   "cell_type": "code",
   "execution_count": 124,
   "id": "9a582f8f-de54-40fc-84a9-edd662597752",
   "metadata": {},
   "outputs": [
    {
     "name": "stdout",
     "output_type": "stream",
     "text": [
      "[('Alterada', 101), ('Alterada', 120), ('Alterada', 109), ('Alterada', 103)]\n"
     ]
    }
   ],
   "source": [
    "alterada = [('Alterada', glicemia[i]) for i in range(len(glicemia)) if glicemia[i] > 100 and glicemia[i] <= 125]\n",
    "print(alterada)"
   ]
  },
  {
   "cell_type": "code",
   "execution_count": 128,
   "id": "78710868-d300-4b39-b0ce-b354726243eb",
   "metadata": {},
   "outputs": [
    {
     "name": "stdout",
     "output_type": "stream",
     "text": [
      "[('Diabetes', 129), ('Diabetes', 167), ('Diabetes', 155)]\n"
     ]
    }
   ],
   "source": [
    "diabetes = [('Diabetes', glicemia[i]) for i in range(len(glicemia)) if glicemia[i] > 125]\n",
    "print(diabetes)"
   ]
  },
  {
   "cell_type": "code",
   "execution_count": 132,
   "id": "ac35271c-9d53-4da8-bccf-6fa2c027ec48",
   "metadata": {},
   "outputs": [
    {
     "name": "stdout",
     "output_type": "stream",
     "text": [
      "([('Hipoglicemia', 60), ('Hipoglicemia', 65), ('Hipoglicemia', 62), ('Hipoglicemia', 53), ('Hipoglicemia', 58), ('Hipoglicemia', 66), ('Hipoglicemia', 62), ('Hipoglicemia', 52)], [('Normal', 82), ('Normal', 97), ('Normal', 87), ('Normal', 92), ('Normal', 86), ('Normal', 96), ('Normal', 88), ('Normal', 89), ('Normal', 73)], [('Diabetes', 129), ('Diabetes', 167), ('Diabetes', 155)], [('Diabetes', 129), ('Diabetes', 167), ('Diabetes', 155)])\n"
     ]
    }
   ],
   "source": [
    "rotulo = hipoglicemia, normal, alterada, diabetes\n",
    "print(rotulo) #essa é a forma demorada e não tão boa de se fazer."
   ]
  },
  {
   "cell_type": "code",
   "execution_count": 142,
   "id": "ae613cae-6836-4573-883e-ecca583a322a",
   "metadata": {},
   "outputs": [
    {
     "name": "stdout",
     "output_type": "stream",
     "text": [
      "[('Diabetes', 129), ('Normal', 82), ('Hipoglicemia', 60), ('Normal', 97), ('Alterada', 101), ('Hipoglicemia', 65), ('Hipoglicemia', 62), ('Diabetes', 167), ('Normal', 87), ('Hipoglicemia', 53), ('Hipoglicemia', 58), ('Normal', 92), ('Hipoglicemia', 66), ('Alterada', 120), ('Alterada', 109), ('Hipoglicemia', 62), ('Normal', 86), ('Normal', 96), ('Alterada', 103), ('Normal', 88), ('Diabetes', 155), ('Hipoglicemia', 52), ('Normal', 89), ('Normal', 73)]\n"
     ]
    }
   ],
   "source": [
    "rotulos = [('Hipoglicemia', glicemia[i]) if glicemia[i] <= 70 else ('Normal', glicemia[i]) if glicemia[i] > 70 and glicemia[i] <= 99 else \n",
    "           ('Alterada', glicemia[i]) if glicemia[i] >= 100 and glicemia[i] <= 125 else ('Diabetes', glicemia[i]) if glicemia[i] \n",
    "           else 'Algo errado' > 125 for i in range(len(glicemia))] #forma rápida de se fazer, mas bastante confusa.\n",
    "print(rotulos)"
   ]
  },
  {
   "cell_type": "markdown",
   "id": "159d23c6-ff93-438a-a493-f916487a0218",
   "metadata": {},
   "source": [
    "8. Um e-commerce possui as informações de id de venda, quantidade vendida e preço do produto divididos nas seguintes listas:\r",
    "* * \r\n",
    "id = [0, 1, 2, 3, 4, 5, 6, 7, 8,9* \n",
    "* ]\r\n",
    "quantidade = [15, 12, 1, 15, 2, 11, 2, 12,  * \n",
    "* 4]\r\n",
    "preco = [93.0, 102.0, 18.0, 41.0, 122.0, 14.0, 71.0, 48.0, 14.0,.0]d\n",
    "igo\r\n",
    "O e-commerce precisa estruturar esses dados em uma tabela contendo o valor total da venda, que é obtida multiplicando a quantidade pelo preço unitário. Além disso, a tabela precisa conter um cabeçalho indicando as colunas: 'id', 'quantidade', 'preco' e 'total'.\r\n",
    "\r\n",
    "Crie uma lista de tuplas em que cada tupla tenha id, quantidade, preço e valor total, na qual a primeira tupla é o cabeçalho da tabela."
   ]
  },
  {
   "cell_type": "code",
   "execution_count": 223,
   "id": "27ec4bfe-2d22-4da2-b3fd-25cfb4d917b3",
   "metadata": {},
   "outputs": [],
   "source": [
    "id = [0, 1, 2, 3, 4, 5, 6, 7, 8, 9]\n",
    "quantidade = [15, 12, 1, 15, 2, 11, 2, 12, 2, 4]\n",
    "preco = [93.0, 102.0, 18.0, 41.0, 122.0, 14.0, 71.0, 48.0, 14.0, 144.0]"
   ]
  },
  {
   "cell_type": "code",
   "execution_count": 225,
   "id": "af495536-d236-4bcd-8e59-e78799136669",
   "metadata": {},
   "outputs": [
    {
     "name": "stdout",
     "output_type": "stream",
     "text": [
      "[[0, 15, 93.0, 1395.0], [1, 12, 102.0, 1224.0], [2, 1, 18.0, 18.0], [3, 15, 41.0, 615.0], [4, 2, 122.0, 244.0], [5, 11, 14.0, 154.0], [6, 2, 71.0, 142.0], [7, 12, 48.0, 576.0], [8, 2, 14.0, 28.0], [9, 4, 144.0, 576.0]]\n"
     ]
    }
   ],
   "source": [
    "tabela = [[id[i], quantidade[i], preco[i], quantidade[i]*preco[i]] for i in id]\n",
    "print(tabela)"
   ]
  },
  {
   "cell_type": "code",
   "execution_count": 253,
   "id": "df4fefa4-ff0d-49cf-97aa-3314cdafed3a",
   "metadata": {},
   "outputs": [
    {
     "data": {
      "text/plain": [
       "[{'id': 0, 'quantidade': 15, 'preco': 93.0, 'total': 1395.0},\n",
       " {'id': 1, 'quantidade': 12, 'preco': 102.0, 'total': 1224.0},\n",
       " {'id': 2, 'quantidade': 1, 'preco': 18.0, 'total': 18.0},\n",
       " {'id': 3, 'quantidade': 15, 'preco': 41.0, 'total': 615.0},\n",
       " {'id': 4, 'quantidade': 2, 'preco': 122.0, 'total': 244.0},\n",
       " {'id': 5, 'quantidade': 11, 'preco': 14.0, 'total': 154.0},\n",
       " {'id': 6, 'quantidade': 2, 'preco': 71.0, 'total': 142.0},\n",
       " {'id': 7, 'quantidade': 12, 'preco': 48.0, 'total': 576.0},\n",
       " {'id': 8, 'quantidade': 2, 'preco': 14.0, 'total': 28.0},\n",
       " {'id': 9, 'quantidade': 4, 'preco': 144.0, 'total': 576.0}]"
      ]
     },
     "execution_count": 253,
     "metadata": {},
     "output_type": "execute_result"
    }
   ],
   "source": [
    "coluna = [{'id': tabela[i][0], 'quantidade': tabela[i][1], 'preco': tabela[i][2], 'total': tabela[i][3]} for i in range(len(tabela))]\n",
    "coluna"
   ]
  },
  {
   "cell_type": "code",
   "execution_count": 261,
   "id": "4810c894-37d8-4326-b269-67c5dda22fe5",
   "metadata": {},
   "outputs": [
    {
     "data": {
      "text/plain": [
       "[('id', 'quantidade', 'preco', 'total'),\n",
       " (0, 15, 93.0, 1395.0),\n",
       " (1, 12, 102.0, 1224.0),\n",
       " (2, 1, 18.0, 18.0),\n",
       " (3, 15, 41.0, 615.0),\n",
       " (4, 2, 122.0, 244.0),\n",
       " (5, 11, 14.0, 154.0),\n",
       " (6, 2, 71.0, 142.0),\n",
       " (7, 12, 48.0, 576.0),\n",
       " (8, 2, 14.0, 28.0),\n",
       " (9, 4, 144.0, 576.0)]"
      ]
     },
     "execution_count": 261,
     "metadata": {},
     "output_type": "execute_result"
    }
   ],
   "source": [
    "#Uma outra forma de fazer \n",
    "\n",
    "tabela = [('id', 'quantidade', 'preco', 'total')]\n",
    "tabela += [(id[i], quantidade[i], preco[i], quantidade[i]*preco[i]) for i in range(len(id))]\n",
    "\n",
    "tabela"
   ]
  },
  {
   "cell_type": "markdown",
   "id": "606ba0ed-daef-4c9c-8d0a-165a9786d471",
   "metadata": {},
   "source": [
    "9. Uma empresa possui filiais espalhadas nos Estados da região Sudeste do Brasil. Em uma das tabelas de cadastro das filiais há uma coluna contendo a informação de qual é o Estado a que pertence:\n",
    "\n",
    "* estados = ['SP', 'ES', 'MG', 'MG', 'SP', 'MG', 'ES', 'ES', 'ES', 'SP', 'SP', 'MG', 'ES', 'SP', 'RJ', 'MG', 'RJ', 'SP', 'MG', 'SP', 'ES', 'SP', 'MG'].\r\n",
    "\r\n",
    "A empresa sempre está abrindo novas filiais, de modo que a tabela está constantemente recebendo novos registros e o gestor gostaria de possuir a informação atualizada da quantidade de filiais em cada Estado.\r\n",
    "\r\n",
    "A partir da coluna com a informação dos Estados, crie um dicionário usando dict comprehension com a chave sendo o nome de um Estado e o valor sendo a contagem de vezes em que o Estado aparece na lista."
   ]
  },
  {
   "cell_type": "code",
   "execution_count": 264,
   "id": "383d5dcf-d30a-43ce-bf49-2798f0d68ee8",
   "metadata": {},
   "outputs": [],
   "source": [
    "estados = ['SP', 'ES', 'MG', 'MG', 'SP', 'MG', 'ES', 'ES', 'ES', 'SP', 'SP', 'MG', 'ES', 'SP', 'RJ', 'MG', 'RJ', 'SP', 'MG', 'SP', 'ES', 'SP', 'MG']"
   ]
  },
  {
   "cell_type": "code",
   "execution_count": 305,
   "id": "81fd74bf-7132-4171-8f67-5a52ce27b4ca",
   "metadata": {},
   "outputs": [
    {
     "data": {
      "text/plain": [
       "['ES', 'SP', 'MG', 'RJ']"
      ]
     },
     "execution_count": 305,
     "metadata": {},
     "output_type": "execute_result"
    }
   ],
   "source": [
    "estados_unicos = list(set(estados))\n",
    "estados_unicos"
   ]
  },
  {
   "cell_type": "code",
   "execution_count": 319,
   "id": "fe8aa2cc-ea47-45a8-829d-3e5421eb353e",
   "metadata": {},
   "outputs": [
    {
     "data": {
      "text/plain": [
       "(6, 8, 7, 2)"
      ]
     },
     "execution_count": 319,
     "metadata": {},
     "output_type": "execute_result"
    }
   ],
   "source": [
    "estado_es = estado_sp = estado_mg = estado_rj = 0\n",
    "\n",
    "for i in estados:\n",
    "    if i == estados_unicos[0]:\n",
    "        estado_es += 1\n",
    "    elif i == estados_unicos[1]:\n",
    "        estado_sp += 1\n",
    "    elif i == estados_unicos[2]:\n",
    "        estado_mg += 1\n",
    "    elif i == estados_unicos[3]:\n",
    "        estado_rj += 1\n",
    "    else:\n",
    "        print('erro')\n",
    "lista_de_valores = estado_es, estado_sp, estado_mg, estado_rj\n",
    "lista_de_valores\n",
    "\n"
   ]
  },
  {
   "cell_type": "code",
   "execution_count": 321,
   "id": "bd7953ec-49f0-406d-8877-13176a7fe320",
   "metadata": {},
   "outputs": [
    {
     "data": {
      "text/plain": [
       "{'ES': 6, 'SP': 8, 'MG': 7, 'RJ': 2}"
      ]
     },
     "execution_count": 321,
     "metadata": {},
     "output_type": "execute_result"
    }
   ],
   "source": [
    "estado_quantidade = {estados_unicos[i]: lista_de_valores[i] for i in range(len(lista_de_valores))}\n",
    "estado_quantidade"
   ]
  },
  {
   "cell_type": "code",
   "execution_count": 327,
   "id": "f39f6912-4ca7-400a-ba1b-a48bfca3a2bb",
   "metadata": {},
   "outputs": [
    {
     "name": "stdout",
     "output_type": "stream",
     "text": [
      "[['ES', 'ES', 'ES', 'ES', 'ES', 'ES'], ['SP', 'SP', 'SP', 'SP', 'SP', 'SP', 'SP', 'SP'], ['MG', 'MG', 'MG', 'MG', 'MG', 'MG', 'MG'], ['RJ', 'RJ']]\n",
      "{'ES': 6, 'SP': 8, 'MG': 7, 'RJ': 2}\n"
     ]
    }
   ],
   "source": [
    "# Outra forma de fazer\n",
    "# Armazenando os estados sem repetição de valor\n",
    "estados_unicos = list(set(estados))\n",
    "\n",
    "# Criando uma lista de listas com valores repetidos de cada estado\n",
    "lista_de_listas = []\n",
    "for estado in estados_unicos:\n",
    "    lista = [uf for uf in estados if uf == estado]\n",
    "    lista_de_listas.append(lista)\n",
    "print(lista_de_listas)\n",
    "\n",
    "# Criando um dicionário em que a chave é o nome de cada estado único e o valor é a contagem de elementos\n",
    "contagem_valores = {estados_unicos[i]: len(lista_de_listas[i]) for i in range(len(estados_unicos))}\n",
    "print(contagem_valores)"
   ]
  },
  {
   "cell_type": "markdown",
   "id": "72f2b782-c587-4cd3-9388-d3ead3f274a8",
   "metadata": {},
   "source": [
    "10. Nessa mesma tabela de cadastro de filiais, há uma coluna com as informações da quantidade de pessoas colaboradoras e o(a) gestor(a) gostaria de ter um agrupamento da soma dessas pessoas para cada estado. As informações contidas na tabela são:\r\n",
    "\r\n",
    "funcionarios = [('SP', 16), ('ES', 8), ('MG', 9), ('MG', 6), ('SP', 10), ('MG', 4), ('ES',9), ('ES', 7), ('ES', 12), ('SP', 7), ('SP', 11), ('MG',8), ('ES',8), ('SP',9), ('RJ', 13), ('MG', 5), ('RJ', 9), ('SP', 12), ('MG', 10), ('SP', 7), ('ES', 14), ('SP', 10), ('MG', 12)igo\r\n",
    "A partir da lista de tuplas, crie um dicionário em que as chaves são os nomes dos Estados únicos e os valores são as listas com o número de colaboradores(as) referentes ao Estado. Crie também um dicionário em que as chaves são os nomes dos Estados e os valores são a soma de colaboradores(as) por Estado."
   ]
  },
  {
   "cell_type": "code",
   "execution_count": 421,
   "id": "ffb3cf01-58d7-4e7f-8e57-18bffc000136",
   "metadata": {},
   "outputs": [],
   "source": [
    "funcionarios = [('SP', 16), ('ES', 8), ('MG', 9), ('MG', 6), ('SP', 10), ('MG', 4), ('ES',9), ('ES', 7), ('ES', 12), ('SP', 7), ('SP', 11), \n",
    "                ('MG',8), ('ES',8), ('SP',9), ('RJ', 13), ('MG', 5), ('RJ', 9), ('SP', 12), ('MG', 10), ('SP', 7), ('ES', 14), ('SP', 10), \n",
    "                ('MG', 12)]"
   ]
  },
  {
   "cell_type": "code",
   "execution_count": 423,
   "id": "64ba256f-cfd5-460b-9fe4-14740c4deebd",
   "metadata": {},
   "outputs": [
    {
     "name": "stdout",
     "output_type": "stream",
     "text": [
      "['SP', 'ES', 'MG', 'MG', 'SP', 'MG', 'ES', 'ES', 'ES', 'SP', 'SP', 'MG', 'ES', 'SP', 'RJ', 'MG', 'RJ', 'SP', 'MG', 'SP', 'ES', 'SP', 'MG']\n"
     ]
    }
   ],
   "source": [
    "lista_estados = [funcionarios[estado][0] for estado in range(len(funcionarios))]\n",
    "print(lista_estados)"
   ]
  },
  {
   "cell_type": "code",
   "execution_count": 425,
   "id": "d86303e9-7155-49f2-8521-89e592408fb9",
   "metadata": {},
   "outputs": [
    {
     "name": "stdout",
     "output_type": "stream",
     "text": [
      "['ES', 'SP', 'MG', 'RJ']\n"
     ]
    }
   ],
   "source": [
    "estados_unicos = list(set(lista_estados))\n",
    "print(estados_unicos)"
   ]
  },
  {
   "cell_type": "code",
   "execution_count": 487,
   "id": "92ddd746-bcc0-456b-8f80-6a5decc83eda",
   "metadata": {},
   "outputs": [],
   "source": [
    "func_es = func_sp = func_mg = func_rj = []\n",
    "func_es = [funcionarios[i][1] for i in range(len(funcionarios)) if funcionarios[i][0] == estados_unicos[0]]\n",
    "func_sp = [funcionarios[i][1] for i in range(len(funcionarios)) if funcionarios[i][0] == estados_unicos[1]]\n",
    "func_mg = [funcionarios[i][1] for i in range(len(funcionarios)) if funcionarios[i][0] == estados_unicos[2]]\n",
    "func_rj = [funcionarios[i][1] for i in range(len(funcionarios)) if funcionarios[i][0] == estados_unicos[3]]\n",
    "func_todos = func_es, func_sp, func_mg, func_rj"
   ]
  },
  {
   "cell_type": "code",
   "execution_count": 493,
   "id": "12338c27-1fd1-40f9-afc4-65e58151a203",
   "metadata": {},
   "outputs": [
    {
     "name": "stdout",
     "output_type": "stream",
     "text": [
      "{'ES': [8, 9, 7, 12, 8, 14], 'SP': [16, 10, 7, 11, 9, 12, 7, 10], 'MG': [9, 6, 4, 8, 5, 10, 12], 'RJ': [13, 9]}\n",
      "{'ES': 58, 'SP': 82, 'MG': 54, 'RJ': 22}\n"
     ]
    }
   ],
   "source": [
    "estados_func = {estados_unicos[i]: func_todos[i] for i in range(len(estados_unicos))}\n",
    "estados_soma = {estados_unicos[i]: sum(func_todos[i]) for i in range(len(estados_unicos))}\n",
    "print(estados_func)\n",
    "print(estados_soma)"
   ]
  },
  {
   "cell_type": "code",
   "execution_count": 495,
   "id": "9d6c0980-3de6-4edf-a1ea-c26770d9c98f",
   "metadata": {},
   "outputs": [
    {
     "name": "stdout",
     "output_type": "stream",
     "text": [
      "[[8, 9, 7, 12, 8, 14], [16, 10, 7, 11, 9, 12, 7, 10], [9, 6, 4, 8, 5, 10, 12], [13, 9]]\n",
      "{'ES': [8, 9, 7, 12, 8, 14], 'SP': [16, 10, 7, 11, 9, 12, 7, 10], 'MG': [9, 6, 4, 8, 5, 10, 12], 'RJ': [13, 9]}\n",
      "{'ES': 58, 'SP': 82, 'MG': 54, 'RJ': 22}\n"
     ]
    }
   ],
   "source": [
    "# Uma outra forma\n",
    "# Armazenando os estados sem repetição de valor\n",
    "estados_unicos = list(set([tupla[0] for tupla in funcionarios]))\n",
    "\n",
    "# Criando uma lista de listas com valores de funcionários de cada estado\n",
    "lista_de_listas = []\n",
    "for estado in estados_unicos:\n",
    "    lista = [tupla[1] for tupla in funcionarios if tupla[0] == estado]\n",
    "    lista_de_listas.append(lista)\n",
    "print(lista_de_listas)\n",
    "\n",
    "# Criando um dicionário com dados agrupados de funcionário por estado\n",
    "agrupamento_por_estado = {estados_unicos[i]: lista_de_listas[i] for i in range(len(estados_unicos))}\n",
    "print(agrupamento_por_estado)\n",
    "\n",
    "# Criando um dicionário com a soma de funcionários por estado\n",
    "soma_por_estado = {estados_unicos[i]: sum(lista_de_listas[i]) for i in range(len(estados_unicos))}\n",
    "print(soma_por_estado)"
   ]
  },
  {
   "cell_type": "code",
   "execution_count": null,
   "id": "83f8b173-7823-42cc-973b-1b2f65775e3a",
   "metadata": {},
   "outputs": [],
   "source": []
  }
 ],
 "metadata": {
  "kernelspec": {
   "display_name": "Python 3 (ipykernel)",
   "language": "python",
   "name": "python3"
  },
  "language_info": {
   "codemirror_mode": {
    "name": "ipython",
    "version": 3
   },
   "file_extension": ".py",
   "mimetype": "text/x-python",
   "name": "python",
   "nbconvert_exporter": "python",
   "pygments_lexer": "ipython3",
   "version": "3.12.4"
  }
 },
 "nbformat": 4,
 "nbformat_minor": 5
}
